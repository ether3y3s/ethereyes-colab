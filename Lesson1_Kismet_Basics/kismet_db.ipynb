{
 "cells": [
  {
   "cell_type": "markdown",
   "metadata": {},
   "source": [
    "# Lesson 1 - Kismet WiFi Basics  \n",
    "Kismet Documentation: https://www.kismetwireless.net/docs/readme/intro/kismet/\n",
    "\n",
    "EtherEyes has configured the Kismet Web-UI on localhost at http://127.0.0.1:2501"
   ]
  },
  {
   "cell_type": "markdown",
   "metadata": {
    "id": "jBEGLI6UG02h"
   },
   "source": [
    "## Kismet Devices"
   ]
  },
  {
   "cell_type": "code",
   "execution_count": 40,
   "metadata": {
    "id": "x7T9u3DcG5X6"
   },
   "outputs": [],
   "source": [
    "# Get devices metadata\n",
    "devices = kismetdb.Devices(kismet_log_file)\n",
    "all_devices_meta = devices.get_meta()\n",
    "df_devices_meta = pd.DataFrame(all_devices_meta)"
   ]
  },
  {
   "cell_type": "code",
   "execution_count": 41,
   "metadata": {
    "colab": {
     "base_uri": "https://localhost:8080/"
    },
    "id": "Toa4U0VaQo0W",
    "outputId": "d2c5ea49-7438-49fb-dd6d-817c0cad605d"
   },
   "outputs": [
    {
     "data": {
      "text/plain": [
       "list"
      ]
     },
     "execution_count": 41,
     "metadata": {},
     "output_type": "execute_result"
    }
   ],
   "source": [
    "type(all_devices_meta)"
   ]
  },
  {
   "cell_type": "code",
   "execution_count": 42,
   "metadata": {
    "colab": {
     "base_uri": "https://localhost:8080/"
    },
    "id": "-7n4BaG8Q14X",
    "outputId": "b0263ad8-1df3-48f1-d067-139f915dddc1"
   },
   "outputs": [
    {
     "name": "stdout",
     "output_type": "stream",
     "text": [
      "{'first_time': 1628191914, 'last_time': 1628191928, 'devkey': '4202770D00000000_6162A7810AFC', 'phyname': 'IEEE802.11', 'devmac': 'FC:0A:81:A7:62:61', 'strongest_signal': -66, 'min_lat': 0.0, 'min_lon': 0.0, 'max_lat': 0.0, 'max_lon': 0.0, 'avg_lat': 0.0, 'avg_lon': 0.0, 'bytes_data': 0, 'type': 'Wi-Fi AP'}\n"
     ]
    }
   ],
   "source": [
    "print(all_devices_meta[1])"
   ]
  },
  {
   "cell_type": "code",
   "execution_count": 43,
   "metadata": {
    "colab": {
     "base_uri": "https://localhost:8080/"
    },
    "id": "tpW6O4lvQY1_",
    "outputId": "c0aeaf05-f369-484d-854d-f3eaf9806eba"
   },
   "outputs": [
    {
     "data": {
      "text/plain": [
       "<bound method DataFrame.info of      first_time   last_time                         devkey     phyname  \\\n",
       "0    1628191914  1628191928  4202770D00000000_6062A7810AFC  IEEE802.11   \n",
       "1    1628191914  1628191928  4202770D00000000_6162A7810AFC  IEEE802.11   \n",
       "2    1628191914  1628191928  4202770D00000000_214E678D2484  IEEE802.11   \n",
       "3    1628191914  1628191925  4202770D00000000_224E678D2484  IEEE802.11   \n",
       "4    1628191914  1628191917  4202770D00000000_A131658D2484  IEEE802.11   \n",
       "..          ...         ...                            ...         ...   \n",
       "179  1628191928  1628191928  4202770D00000000_7C353A2C17E6  IEEE802.11   \n",
       "180  1628191929  1628191929  4202770D00000000_E9D5E29A4DCA  IEEE802.11   \n",
       "181  1628191929  1628191929  4202770D00000000_B3E4022D5732  IEEE802.11   \n",
       "182  1628191929  1628191929  4202770D00000000_68894ED9C526  IEEE802.11   \n",
       "183  1628191929  1628191929  4202770D00000000_2EA82B5C53F6  IEEE802.11   \n",
       "\n",
       "                devmac  strongest_signal  min_lat  min_lon  max_lat  max_lon  \\\n",
       "0    FC:0A:81:A7:62:60               -68      0.0      0.0      0.0      0.0   \n",
       "1    FC:0A:81:A7:62:61               -66      0.0      0.0      0.0      0.0   \n",
       "2    84:24:8D:67:4E:21               -76      0.0      0.0      0.0      0.0   \n",
       "3    84:24:8D:67:4E:22               -78      0.0      0.0      0.0      0.0   \n",
       "4    84:24:8D:65:31:A1               -88      0.0      0.0      0.0      0.0   \n",
       "..                 ...               ...      ...      ...      ...      ...   \n",
       "179  E6:17:2C:3A:35:7C                 0      0.0      0.0      0.0      0.0   \n",
       "180  CA:4D:9A:E2:D5:E9                 0      0.0      0.0      0.0      0.0   \n",
       "181  32:57:2D:02:E4:B3                 0      0.0      0.0      0.0      0.0   \n",
       "182  26:C5:D9:4E:89:68                 0      0.0      0.0      0.0      0.0   \n",
       "183  F6:53:5C:2B:A8:2E               -90      0.0      0.0      0.0      0.0   \n",
       "\n",
       "     avg_lat  avg_lon  bytes_data                     type  \n",
       "0        0.0      0.0           0                 Wi-Fi AP  \n",
       "1        0.0      0.0           0                 Wi-Fi AP  \n",
       "2        0.0      0.0           0                 Wi-Fi AP  \n",
       "3        0.0      0.0           0                 Wi-Fi AP  \n",
       "4        0.0      0.0           0                 Wi-Fi AP  \n",
       "..       ...      ...         ...                      ...  \n",
       "179      0.0      0.0           0  Wi-Fi Device (Inferred)  \n",
       "180      0.0      0.0           0  Wi-Fi Device (Inferred)  \n",
       "181      0.0      0.0           0  Wi-Fi Device (Inferred)  \n",
       "182      0.0      0.0           0  Wi-Fi Device (Inferred)  \n",
       "183      0.0      0.0           0             Wi-Fi Device  \n",
       "\n",
       "[184 rows x 14 columns]>"
      ]
     },
     "execution_count": 43,
     "metadata": {},
     "output_type": "execute_result"
    }
   ],
   "source": [
    "df_devices_meta.info"
   ]
  },
  {
   "cell_type": "code",
   "execution_count": 44,
   "metadata": {
    "id": "-8S_rxvXJK-D"
   },
   "outputs": [],
   "source": [
    "# Get devices metadata\n",
    "all_devices = devices.get_all()\n",
    "#for device in all_devices:\n",
    "#  print(device)"
   ]
  },
  {
   "cell_type": "code",
   "execution_count": 45,
   "metadata": {
    "id": "Zr9AIh1_PMs2"
   },
   "outputs": [
    {
     "data": {
      "text/plain": [
       "{'first_time': 1628191914,\n",
       " 'last_time': 1628191928,\n",
       " 'devkey': '4202770D00000000_6162A7810AFC',\n",
       " 'phyname': 'IEEE802.11',\n",
       " 'devmac': 'FC:0A:81:A7:62:61',\n",
       " 'strongest_signal': -66,\n",
       " 'min_lat': 0.0,\n",
       " 'min_lon': 0.0,\n",
       " 'max_lat': 0.0,\n",
       " 'max_lon': 0.0,\n",
       " 'avg_lat': 0.0,\n",
       " 'avg_lon': 0.0,\n",
       " 'bytes_data': 0,\n",
       " 'type': 'Wi-Fi AP',\n",
       " 'device': '{\"kismet.device.base.type\": \"Wi-Fi AP\", \"kismet.device.base.manuf\": \"Extreme Networks Inc.\", \"kismet.server.uuid\": \"C37B599A-E400-11EB-B3D1-4B49534D4554\", \"kismet.device.base.seenby\": [{\"kismet.common.seenby.uuid\": \"5FE308BD-0000-0000-0000-9CEFD5FD12EE\", \"kismet.common.seenby.num_packets\": 3, \"kismet.common.seenby.last_time\": 1628191915, \"kismet.common.seenby.first_time\": 1628191915}, {\"kismet.common.seenby.uuid\": \"5FE308BD-0000-0000-0000-B827EBF1EF3F\", \"kismet.common.seenby.num_packets\": 14, \"kismet.common.seenby.last_time\": 1628191928, \"kismet.common.seenby.first_time\": 1628191914}], \"kismet.device.base.num_alerts\": 0, \"kismet.device.base.mod_time\": 1628191930, \"kismet.device.base.last_time\": 1628191928, \"kismet.device.base.first_time\": 1628191914, \"kismet.device.base.frequency\": 2412000, \"kismet.device.base.basic_crypt_set\": 2, \"kismet.device.base.channel\": \"1\", \"kismet.device.base.crypt\": \"WPA2-PSK\", \"kismet.device.base.freq_khz_map\": {\"2412000\": 17}, \"kismet.device.base.basic_type_set\": 1, \"kismet.device.base.signal\": {\"kismet.common.signal.signal_rrd\": {\"kismet.common.rrd.blank_val\": 0, \"kismet.common.rrd.minute_vec\": [-76, 0, 0, -78, 0, -74, -76, 0, -77, 0, 0, 0, 0, 0, 0, 0, 0, 0, 0, 0, 0, 0, 0, 0, 0, 0, 0, 0, 0, 0, 0, 0, 0, 0, 0, 0, 0, 0, 0, 0, 0, 0, 0, 0, 0, 0, 0, 0, 0, 0, 0, 0, 0, 0, -75, -68, 0, -75, 0, 0], \"kismet.common.rrd.serial_time\": 1628191931, \"kismet.common.rrd.last_time\": 1628191931}, \"kismet.common.signal.carrierset\": 4, \"kismet.common.signal.encodingset\": 3, \"kismet.common.signal.maxseenrate\": 60, \"kismet.common.signal.max_noise\": 0, \"kismet.common.signal.max_signal\": -66, \"kismet.common.signal.min_noise\": 0, \"kismet.common.signal.min_signal\": -78, \"kismet.common.signal.last_noise\": 0, \"kismet.common.signal.last_signal\": -77, \"kismet.common.signal.type\": \"dbm\"}, \"kismet.device.base.commonname\": \"ALPHA\", \"kismet.device.base.name\": \"ALPHA\", \"kismet.device.base.phyname\": \"IEEE802.11\", \"kismet.device.base.related_devices\": {\"dot11_bssts_similar\": [\"4202770D00000000_6062A7810AFC\"]}, \"kismet.device.base.macaddr\": \"FC:0A:81:A7:62:61\", \"kismet.device.base.key\": \"4202770D00000000_6162A7810AFC\", \"kismet.device.base.packets.total\": 17, \"dot11.device\": {\"dot11.device.last_beaconed_ssid_record\": {\"dot11.advertisedssid.cisco_client_mfp\": 0, \"dot11.advertisedssid.ccx_txpower\": 0, \"dot11.advertisedssid.dot11e_channel_utilization_perc\": 16.078431, \"dot11.advertisedssid.dot11e_qbss_stations\": 0, \"dot11.advertisedssid.dot11e_qbss\": 1, \"dot11.advertisedssid.dot11r_mobility_domain_id\": 0, \"dot11.advertisedssid.dot11r_mobility\": 0, \"dot11.advertisedssid.first_time\": 1628191914, \"dot11.advertisedssid.ht_center_2\": 0, \"dot11.advertisedssid.ht_center_1\": 0, \"dot11.advertisedssid.ht_mode\": \"HT20\", \"dot11.advertisedssid.channel\": \"1\", \"dot11.advertisedssid.probe_response\": 0, \"dot11.advertisedssid.beacon\": 1, \"dot11.advertisedssid.ssid_hash\": 3179317145, \"dot11.advertisedssid.wps_config_methods\": 0, \"dot11.advertisedssid.ssidlen\": 5, \"dot11.advertisedssid.wps_state\": 0, \"dot11.advertisedssid.ssid\": \"ALPHA\", \"dot11.advertisedssid.wps_version\": 0, \"dot11.advertisedssid.last_time\": 1628191928, \"dot11.advertisedssid.cloaked\": 0, \"dot11.advertisedssid.crypt_set\": 268436162, \"dot11.advertisedssid.maxrate\": 144.4, \"dot11.advertisedssid.beaconrate\": 10, \"dot11.advertisedssid.beacons_sec\": 13, \"dot11.advertisedssid.ietag_checksum\": 498733285, \"dot11.advertisedssid.wpa_mfp_required\": 0, \"dot11.advertisedssid.wpa_mfp_supported\": 0, \"dot11.advertisedssid.dot11d_country\": \"\"}, \"dot11.device.last_bssid\": \"FC:0A:81:A7:62:61\", \"dot11.device.response_fingerprint\": 0, \"dot11.device.probe_fingerprint\": 0, \"dot11.device.beacon_fingerprint\": 2421800394, \"dot11.device.neighbor_report_capable\": 0, \"dot11.device.link_measurement_capable\": 0, \"dot11.device.wps_m3_last\": 0, \"dot11.device.max_tx_power\": 0, \"dot11.device.wps_m3_count\": 0, \"dot11.device.min_tx_power\": 0, \"dot11.device.last_beacon_timestamp\": 1628191928, \"dot11.device.datasize_retry\": 0, \"dot11.device.last_sequence\": 0, \"dot11.device.num_client_aps\": 0, \"dot11.device.num_advertised_ssids\": 1, \"dot11.device.num_probed_ssids\": 0, \"dot11.device.responded_ssid_map\": [{\"dot11.advertisedssid.cisco_client_mfp\": 0, \"dot11.advertisedssid.ccx_txpower\": 0, \"dot11.advertisedssid.dot11e_channel_utilization_perc\": 0, \"dot11.advertisedssid.dot11e_qbss_stations\": 0, \"dot11.advertisedssid.dot11e_qbss\": 0, \"dot11.advertisedssid.dot11r_mobility_domain_id\": 0, \"dot11.advertisedssid.dot11r_mobility\": 0, \"dot11.advertisedssid.first_time\": 1628191915, \"dot11.advertisedssid.ht_center_2\": 0, \"dot11.advertisedssid.ht_center_1\": 0, \"dot11.advertisedssid.ht_mode\": \"\", \"dot11.advertisedssid.channel\": \"\", \"dot11.advertisedssid.probe_response\": 1, \"dot11.advertisedssid.beacon\": 0, \"dot11.advertisedssid.ssid_hash\": 3179317145, \"dot11.advertisedssid.wps_config_methods\": 0, \"dot11.advertisedssid.ssidlen\": 5, \"dot11.advertisedssid.wps_state\": 0, \"dot11.advertisedssid.ssid\": \"ALPHA\", \"dot11.advertisedssid.wps_version\": 0, \"dot11.advertisedssid.last_time\": 1628191923, \"dot11.advertisedssid.cloaked\": 0, \"dot11.advertisedssid.crypt_set\": 268436162, \"dot11.advertisedssid.maxrate\": 144.4, \"dot11.advertisedssid.beaconrate\": 0, \"dot11.advertisedssid.beacons_sec\": 0, \"dot11.advertisedssid.ietag_checksum\": 4245295323, \"dot11.advertisedssid.wpa_mfp_required\": 0, \"dot11.advertisedssid.wpa_mfp_supported\": 0}], \"dot11.device.advertised_ssid_map\": [{\"dot11.advertisedssid.cisco_client_mfp\": 0, \"dot11.advertisedssid.ccx_txpower\": 0, \"dot11.advertisedssid.dot11e_channel_utilization_perc\": 16.078431, \"dot11.advertisedssid.dot11e_qbss_stations\": 0, \"dot11.advertisedssid.dot11e_qbss\": 1, \"dot11.advertisedssid.dot11r_mobility_domain_id\": 0, \"dot11.advertisedssid.dot11r_mobility\": 0, \"dot11.advertisedssid.first_time\": 1628191914, \"dot11.advertisedssid.ht_center_2\": 0, \"dot11.advertisedssid.ht_center_1\": 0, \"dot11.advertisedssid.ht_mode\": \"HT20\", \"dot11.advertisedssid.channel\": \"1\", \"dot11.advertisedssid.probe_response\": 0, \"dot11.advertisedssid.beacon\": 1, \"dot11.advertisedssid.ssid_hash\": 3179317145, \"dot11.advertisedssid.wps_config_methods\": 0, \"dot11.advertisedssid.ssidlen\": 5, \"dot11.advertisedssid.wps_state\": 0, \"dot11.advertisedssid.ssid\": \"ALPHA\", \"dot11.advertisedssid.wps_version\": 0, \"dot11.advertisedssid.last_time\": 1628191928, \"dot11.advertisedssid.cloaked\": 0, \"dot11.advertisedssid.crypt_set\": 268436162, \"dot11.advertisedssid.maxrate\": 144.4, \"dot11.advertisedssid.beaconrate\": 10, \"dot11.advertisedssid.beacons_sec\": 13, \"dot11.advertisedssid.ietag_checksum\": 498733285, \"dot11.advertisedssid.wpa_mfp_required\": 0, \"dot11.advertisedssid.wpa_mfp_supported\": 0, \"dot11.advertisedssid.dot11d_country\": \"\"}], \"dot11.device.num_associated_clients\": 0, \"dot11.device.wpa_present_handshake\": 0, \"dot11.device.client_disconnects\": 0, \"dot11.device.typeset\": 257, \"dot11.device.num_responded_ssids\": 1, \"dot11.device.client_disconnects_last\": 0, \"dot11.device.bss_timestamp\": 1968732838784, \"dot11.device.num_fragments\": 0, \"dot11.device.num_retries\": 0, \"dot11.device.datasize\": 0}, \"kismet.device.base.packets.rx\": 0, \"kismet.device.base.packets.tx\": 0, \"kismet.device.base.packets.llc\": 17, \"kismet.device.base.packets.error\": 0, \"kismet.device.base.packets.data\": 0, \"kismet.device.base.packets.crypt\": 0, \"kismet.device.base.packets.filtered\": 0, \"kismet.device.base.datasize\": 0, \"kismet.device.base.packets.rrd\": {\"kismet.common.rrd.blank_val\": 0, \"kismet.common.rrd.day_vec\": [0, 0, 0, 0, 0, 0, 0, 0, 0, 0, 0, 0, 0, 0, 0, 0, 0, 0, 0, 0, 0, 0, 0, 0], \"kismet.common.rrd.hour_vec\": [0, 0, 0, 0, 0, 0, 0, 0, 0, 0, 0, 0, 0, 0, 0, 0, 0, 0, 0, 0, 0, 0, 0, 0, 0, 0, 0, 0, 0, 0, 0, 0, 0, 0, 0, 0, 0, 0, 0, 0, 0, 0, 0, 0, 0, 0, 0, 0, 0, 0, 0, 0, 0, 0, 0, 0, 0, 0, 0, 0], \"kismet.common.rrd.minute_vec\": [1, 1, 0, 0, 3, 0, 0, 2, 0, 0, 3, 0, 0, 0, 0, 0, 0, 0, 0, 0, 0, 0, 0, 0, 0, 0, 0, 0, 0, 0, 0, 0, 0, 0, 0, 0, 0, 0, 0, 0, 0, 0, 0, 0, 0, 0, 0, 0, 0, 0, 0, 0, 0, 0, 0, 2, 0, 4, 1, 0], \"kismet.common.rrd.serial_time\": 1628191931, \"kismet.common.rrd.last_time\": 1628191931}}'}"
      ]
     },
     "execution_count": 45,
     "metadata": {},
     "output_type": "execute_result"
    }
   ],
   "source": [
    "all_devices[1]"
   ]
  },
  {
   "cell_type": "code",
   "execution_count": 26,
   "metadata": {
    "id": "sBZce7kXP4Uj"
   },
   "outputs": [],
   "source": [
    "df = pd.DataFrame(all_devices)"
   ]
  },
  {
   "cell_type": "code",
   "execution_count": 27,
   "metadata": {
    "colab": {
     "base_uri": "https://localhost:8080/"
    },
    "id": "k4Hn44yIP9hz",
    "outputId": "ed6eb16e-891e-4dc4-f9b2-eb8c073dac36"
   },
   "outputs": [
    {
     "data": {
      "text/plain": [
       "<bound method DataFrame.info of      first_time   last_time                         devkey     phyname  \\\n",
       "0    1628191914  1628191928  4202770D00000000_6062A7810AFC  IEEE802.11   \n",
       "1    1628191914  1628191928  4202770D00000000_6162A7810AFC  IEEE802.11   \n",
       "2    1628191914  1628191928  4202770D00000000_214E678D2484  IEEE802.11   \n",
       "3    1628191914  1628191925  4202770D00000000_224E678D2484  IEEE802.11   \n",
       "4    1628191914  1628191917  4202770D00000000_A131658D2484  IEEE802.11   \n",
       "..          ...         ...                            ...         ...   \n",
       "179  1628191928  1628191928  4202770D00000000_7C353A2C17E6  IEEE802.11   \n",
       "180  1628191929  1628191929  4202770D00000000_E9D5E29A4DCA  IEEE802.11   \n",
       "181  1628191929  1628191929  4202770D00000000_B3E4022D5732  IEEE802.11   \n",
       "182  1628191929  1628191929  4202770D00000000_68894ED9C526  IEEE802.11   \n",
       "183  1628191929  1628191929  4202770D00000000_2EA82B5C53F6  IEEE802.11   \n",
       "\n",
       "                devmac  strongest_signal  min_lat  min_lon  max_lat  max_lon  \\\n",
       "0    FC:0A:81:A7:62:60               -68      0.0      0.0      0.0      0.0   \n",
       "1    FC:0A:81:A7:62:61               -66      0.0      0.0      0.0      0.0   \n",
       "2    84:24:8D:67:4E:21               -76      0.0      0.0      0.0      0.0   \n",
       "3    84:24:8D:67:4E:22               -78      0.0      0.0      0.0      0.0   \n",
       "4    84:24:8D:65:31:A1               -88      0.0      0.0      0.0      0.0   \n",
       "..                 ...               ...      ...      ...      ...      ...   \n",
       "179  E6:17:2C:3A:35:7C                 0      0.0      0.0      0.0      0.0   \n",
       "180  CA:4D:9A:E2:D5:E9                 0      0.0      0.0      0.0      0.0   \n",
       "181  32:57:2D:02:E4:B3                 0      0.0      0.0      0.0      0.0   \n",
       "182  26:C5:D9:4E:89:68                 0      0.0      0.0      0.0      0.0   \n",
       "183  F6:53:5C:2B:A8:2E               -90      0.0      0.0      0.0      0.0   \n",
       "\n",
       "     avg_lat  avg_lon  bytes_data                     type  \\\n",
       "0        0.0      0.0           0                 Wi-Fi AP   \n",
       "1        0.0      0.0           0                 Wi-Fi AP   \n",
       "2        0.0      0.0           0                 Wi-Fi AP   \n",
       "3        0.0      0.0           0                 Wi-Fi AP   \n",
       "4        0.0      0.0           0                 Wi-Fi AP   \n",
       "..       ...      ...         ...                      ...   \n",
       "179      0.0      0.0           0  Wi-Fi Device (Inferred)   \n",
       "180      0.0      0.0           0  Wi-Fi Device (Inferred)   \n",
       "181      0.0      0.0           0  Wi-Fi Device (Inferred)   \n",
       "182      0.0      0.0           0  Wi-Fi Device (Inferred)   \n",
       "183      0.0      0.0           0             Wi-Fi Device   \n",
       "\n",
       "                                                device  \n",
       "0    {\"kismet.device.base.type\": \"Wi-Fi AP\", \"kisme...  \n",
       "1    {\"kismet.device.base.type\": \"Wi-Fi AP\", \"kisme...  \n",
       "2    {\"kismet.device.base.type\": \"Wi-Fi AP\", \"kisme...  \n",
       "3    {\"kismet.device.base.type\": \"Wi-Fi AP\", \"kisme...  \n",
       "4    {\"kismet.device.base.type\": \"Wi-Fi AP\", \"kisme...  \n",
       "..                                                 ...  \n",
       "179  {\"kismet.device.base.manuf\": \"Unknown\", \"kisme...  \n",
       "180  {\"kismet.device.base.manuf\": \"Unknown\", \"kisme...  \n",
       "181  {\"kismet.device.base.manuf\": \"Unknown\", \"kisme...  \n",
       "182  {\"kismet.device.base.manuf\": \"Unknown\", \"kisme...  \n",
       "183  {\"kismet.device.base.manuf\": \"Unknown\", \"kisme...  \n",
       "\n",
       "[184 rows x 15 columns]>"
      ]
     },
     "execution_count": 27,
     "metadata": {},
     "output_type": "execute_result"
    }
   ],
   "source": [
    "df.info"
   ]
  },
  {
   "cell_type": "code",
   "execution_count": 28,
   "metadata": {
    "colab": {
     "base_uri": "https://localhost:8080/"
    },
    "id": "4GT4n-0TT6ZH",
    "outputId": "880ddfb6-8c7e-4464-fa87-978bece32f31"
   },
   "outputs": [
    {
     "name": "stdout",
     "output_type": "stream",
     "text": [
      "<class 'pandas.core.frame.DataFrame'>\n",
      "RangeIndex: 5 entries, 0 to 4\n",
      "Data columns (total 15 columns):\n",
      " #   Column            Non-Null Count  Dtype  \n",
      "---  ------            --------------  -----  \n",
      " 0   first_time        5 non-null      int64  \n",
      " 1   last_time         5 non-null      int64  \n",
      " 2   devkey            5 non-null      object \n",
      " 3   phyname           5 non-null      object \n",
      " 4   devmac            5 non-null      object \n",
      " 5   strongest_signal  5 non-null      int64  \n",
      " 6   min_lat           5 non-null      float64\n",
      " 7   min_lon           5 non-null      float64\n",
      " 8   max_lat           5 non-null      float64\n",
      " 9   max_lon           5 non-null      float64\n",
      " 10  avg_lat           5 non-null      float64\n",
      " 11  avg_lon           5 non-null      float64\n",
      " 12  bytes_data        5 non-null      int64  \n",
      " 13  type              5 non-null      object \n",
      " 14  device            5 non-null      object \n",
      "dtypes: float64(6), int64(4), object(5)\n",
      "memory usage: 728.0+ bytes\n"
     ]
    }
   ],
   "source": [
    "df_10 = df.head()\n",
    "df_10.info()"
   ]
  },
  {
   "cell_type": "code",
   "execution_count": 29,
   "metadata": {
    "id": "XYSpjHUsR6Of"
   },
   "outputs": [],
   "source": [
    "\n",
    "json_data = df_10.to_json()"
   ]
  },
  {
   "cell_type": "code",
   "execution_count": 30,
   "metadata": {
    "colab": {
     "base_uri": "https://localhost:8080/"
    },
    "id": "E8zK7lG-SCcg",
    "outputId": "ca1a5e28-368e-4c78-c979-1e72319ec4f1"
   },
   "outputs": [
    {
     "name": "stdout",
     "output_type": "stream",
     "text": [
      "{\"first_time\":{\"0\":1628191914,\"1\":1628191914,\"2\":1628191914,\"3\":1628191914,\"4\":1628191914},\"last_time\":{\"0\":1628191928,\"1\":1628191928,\"2\":1628191928,\"3\":1628191925,\"4\":1628191917},\"devkey\":{\"0\":\"4202770D00000000_6062A7810AFC\",\"1\":\"4202770D00000000_6162A7810AFC\",\"2\":\"4202770D00000000_214E678D2484\",\"3\":\"4202770D00000000_224E678D2484\",\"4\":\"4202770D00000000_A131658D2484\"},\"phyname\":{\"0\":\"IEEE802.11\",\"1\":\"IEEE802.11\",\"2\":\"IEEE802.11\",\"3\":\"IEEE802.11\",\"4\":\"IEEE802.11\"},\"devmac\":{\"0\":\"FC:0A:81:A7:62:60\",\"1\":\"FC:0A:81:A7:62:61\",\"2\":\"84:24:8D:67:4E:21\",\"3\":\"84:24:8D:67:4E:22\",\"4\":\"84:24:8D:65:31:A1\"},\"strongest_signal\":{\"0\":-68,\"1\":-66,\"2\":-76,\"3\":-78,\"4\":-88},\"min_lat\":{\"0\":0.0,\"1\":0.0,\"2\":0.0,\"3\":0.0,\"4\":0.0},\"min_lon\":{\"0\":0.0,\"1\":0.0,\"2\":0.0,\"3\":0.0,\"4\":0.0},\"max_lat\":{\"0\":0.0,\"1\":0.0,\"2\":0.0,\"3\":0.0,\"4\":0.0},\"max_lon\":{\"0\":0.0,\"1\":0.0,\"2\":0.0,\"3\":0.0,\"4\":0.0},\"avg_lat\":{\"0\":0.0,\"1\":0.0,\"2\":0.0,\"3\":0.0,\"4\":0.0},\"avg_lon\":{\"0\":0.0,\"1\":0.0,\"2\":0.0,\"3\":0.0,\"4\":0.0},\"bytes_data\":{\"0\":0,\"1\":0,\"2\":0,\"3\":0,\"4\":0},\"type\":{\"0\":\"Wi-Fi AP\",\"1\":\"Wi-Fi AP\",\"2\":\"Wi-Fi AP\",\"3\":\"Wi-Fi AP\",\"4\":\"Wi-Fi AP\"},\"device\":{\"0\":\"{\\\"kismet.device.base.type\\\": \\\"Wi-Fi AP\\\", \\\"kismet.device.base.manuf\\\": \\\"Extreme Networks Inc.\\\", \\\"kismet.server.uuid\\\": \\\"C37B599A-E400-11EB-B3D1-4B49534D4554\\\", \\\"kismet.device.base.seenby\\\": [{\\\"kismet.common.seenby.uuid\\\": \\\"5FE308BD-0000-0000-0000-9CEFD5FD12EE\\\", \\\"kismet.common.seenby.num_packets\\\": 2, \\\"kismet.common.seenby.last_time\\\": 1628191915, \\\"kismet.common.seenby.first_time\\\": 1628191915}, {\\\"kismet.common.seenby.uuid\\\": \\\"5FE308BD-0000-0000-0000-B827EBF1EF3F\\\", \\\"kismet.common.seenby.num_packets\\\": 14, \\\"kismet.common.seenby.last_time\\\": 1628191928, \\\"kismet.common.seenby.first_time\\\": 1628191914}], \\\"kismet.device.base.num_alerts\\\": 0, \\\"kismet.device.base.mod_time\\\": 1628191930, \\\"kismet.device.base.last_time\\\": 1628191928, \\\"kismet.device.base.first_time\\\": 1628191914, \\\"kismet.device.base.frequency\\\": 2412000, \\\"kismet.device.base.basic_crypt_set\\\": 0, \\\"kismet.device.base.channel\\\": \\\"1\\\", \\\"kismet.device.base.crypt\\\": \\\"Open\\\", \\\"kismet.device.base.freq_khz_map\\\": {\\\"2412000\\\": 16}, \\\"kismet.device.base.basic_type_set\\\": 1, \\\"kismet.device.base.signal\\\": {\\\"kismet.common.signal.signal_rrd\\\": {\\\"kismet.common.rrd.blank_val\\\": 0, \\\"kismet.common.rrd.minute_vec\\\": [-77, 0, 0, -75, 0, -74, -73, 0, -76, 0, 0, 0, 0, 0, 0, 0, 0, 0, 0, 0, 0, 0, 0, 0, 0, 0, 0, 0, 0, 0, 0, 0, 0, 0, 0, 0, 0, 0, 0, 0, 0, 0, 0, 0, 0, 0, 0, 0, 0, 0, 0, 0, 0, 0, -76, -68, 0, -74, 0, 0], \\\"kismet.common.rrd.serial_time\\\": 1628191931, \\\"kismet.common.rrd.last_time\\\": 1628191931}, \\\"kismet.common.signal.carrierset\\\": 4, \\\"kismet.common.signal.encodingset\\\": 3, \\\"kismet.common.signal.maxseenrate\\\": 60, \\\"kismet.common.signal.max_noise\\\": 0, \\\"kismet.common.signal.max_signal\\\": -68, \\\"kismet.common.signal.min_noise\\\": 0, \\\"kismet.common.signal.min_signal\\\": -77, \\\"kismet.common.signal.last_noise\\\": 0, \\\"kismet.common.signal.last_signal\\\": -76, \\\"kismet.common.signal.type\\\": \\\"dbm\\\"}, \\\"kismet.device.base.commonname\\\": \\\"Caesars_Resorts\\\", \\\"kismet.device.base.name\\\": \\\"Caesars_Resorts\\\", \\\"kismet.device.base.phyname\\\": \\\"IEEE802.11\\\", \\\"kismet.device.base.related_devices\\\": {\\\"dot11_bssts_similar\\\": [\\\"4202770D00000000_6162A7810AFC\\\"]}, \\\"kismet.device.base.macaddr\\\": \\\"FC:0A:81:A7:62:60\\\", \\\"kismet.device.base.key\\\": \\\"4202770D00000000_6062A7810AFC\\\", \\\"kismet.device.base.packets.total\\\": 16, \\\"dot11.device\\\": {\\\"dot11.device.last_beaconed_ssid_record\\\": {\\\"dot11.advertisedssid.cisco_client_mfp\\\": 0, \\\"dot11.advertisedssid.ccx_txpower\\\": 0, \\\"dot11.advertisedssid.dot11e_channel_utilization_perc\\\": 14.509804, \\\"dot11.advertisedssid.dot11e_qbss_stations\\\": 0, \\\"dot11.advertisedssid.dot11e_qbss\\\": 1, \\\"dot11.advertisedssid.dot11r_mobility_domain_id\\\": 0, \\\"dot11.advertisedssid.dot11r_mobility\\\": 0, \\\"dot11.advertisedssid.first_time\\\": 1628191914, \\\"dot11.advertisedssid.ht_center_2\\\": 0, \\\"dot11.advertisedssid.ht_center_1\\\": 0, \\\"dot11.advertisedssid.ht_mode\\\": \\\"HT20\\\", \\\"dot11.advertisedssid.channel\\\": \\\"1\\\", \\\"dot11.advertisedssid.probe_response\\\": 0, \\\"dot11.advertisedssid.beacon\\\": 1, \\\"dot11.advertisedssid.ssid_hash\\\": 2678865861, \\\"dot11.advertisedssid.wps_config_methods\\\": 0, \\\"dot11.advertisedssid.ssidlen\\\": 15, \\\"dot11.advertisedssid.wps_state\\\": 0, \\\"dot11.advertisedssid.ssid\\\": \\\"Caesars_Resorts\\\", \\\"dot11.advertisedssid.wps_version\\\": 0, \\\"dot11.advertisedssid.last_time\\\": 1628191928, \\\"dot11.advertisedssid.cloaked\\\": 0, \\\"dot11.advertisedssid.crypt_set\\\": 0, \\\"dot11.advertisedssid.maxrate\\\": 144.4, \\\"dot11.advertisedssid.beaconrate\\\": 10, \\\"dot11.advertisedssid.beacons_sec\\\": 13, \\\"dot11.advertisedssid.ietag_checksum\\\": 4119859977, \\\"dot11.advertisedssid.wpa_mfp_required\\\": 0, \\\"dot11.advertisedssid.wpa_mfp_supported\\\": 0, \\\"dot11.advertisedssid.dot11d_country\\\": \\\"\\\"}, \\\"dot11.device.last_bssid\\\": \\\"FC:0A:81:A7:62:60\\\", \\\"dot11.device.response_fingerprint\\\": 0, \\\"dot11.device.probe_fingerprint\\\": 0, \\\"dot11.device.beacon_fingerprint\\\": 1374777289, \\\"dot11.device.neighbor_report_capable\\\": 0, \\\"dot11.device.link_measurement_capable\\\": 0, \\\"dot11.device.wps_m3_last\\\": 0, \\\"dot11.device.max_tx_power\\\": 0, \\\"dot11.device.wps_m3_count\\\": 0, \\\"dot11.device.min_tx_power\\\": 0, \\\"dot11.device.last_beacon_timestamp\\\": 1628191928, \\\"dot11.device.datasize_retry\\\": 0, \\\"dot11.device.last_sequence\\\": 0, \\\"dot11.device.num_client_aps\\\": 0, \\\"dot11.device.num_advertised_ssids\\\": 1, \\\"dot11.device.num_probed_ssids\\\": 0, \\\"dot11.device.responded_ssid_map\\\": [{\\\"dot11.advertisedssid.cisco_client_mfp\\\": 0, \\\"dot11.advertisedssid.ccx_txpower\\\": 0, \\\"dot11.advertisedssid.dot11e_channel_utilization_perc\\\": 0, \\\"dot11.advertisedssid.dot11e_qbss_stations\\\": 0, \\\"dot11.advertisedssid.dot11e_qbss\\\": 0, \\\"dot11.advertisedssid.dot11r_mobility_domain_id\\\": 0, \\\"dot11.advertisedssid.dot11r_mobility\\\": 0, \\\"dot11.advertisedssid.first_time\\\": 1628191915, \\\"dot11.advertisedssid.ht_center_2\\\": 0, \\\"dot11.advertisedssid.ht_center_1\\\": 0, \\\"dot11.advertisedssid.ht_mode\\\": \\\"\\\", \\\"dot11.advertisedssid.channel\\\": \\\"\\\", \\\"dot11.advertisedssid.probe_response\\\": 1, \\\"dot11.advertisedssid.beacon\\\": 0, \\\"dot11.advertisedssid.ssid_hash\\\": 2678865861, \\\"dot11.advertisedssid.wps_config_methods\\\": 0, \\\"dot11.advertisedssid.ssidlen\\\": 15, \\\"dot11.advertisedssid.wps_state\\\": 0, \\\"dot11.advertisedssid.ssid\\\": \\\"Caesars_Resorts\\\", \\\"dot11.advertisedssid.wps_version\\\": 0, \\\"dot11.advertisedssid.last_time\\\": 1628191923, \\\"dot11.advertisedssid.cloaked\\\": 0, \\\"dot11.advertisedssid.crypt_set\\\": 0, \\\"dot11.advertisedssid.maxrate\\\": 144.4, \\\"dot11.advertisedssid.beaconrate\\\": 0, \\\"dot11.advertisedssid.beacons_sec\\\": 0, \\\"dot11.advertisedssid.ietag_checksum\\\": 3144684292, \\\"dot11.advertisedssid.wpa_mfp_required\\\": 0, \\\"dot11.advertisedssid.wpa_mfp_supported\\\": 0}], \\\"dot11.device.advertised_ssid_map\\\": [{\\\"dot11.advertisedssid.cisco_client_mfp\\\": 0, \\\"dot11.advertisedssid.ccx_txpower\\\": 0, \\\"dot11.advertisedssid.dot11e_channel_utilization_perc\\\": 14.509804, \\\"dot11.advertisedssid.dot11e_qbss_stations\\\": 0, \\\"dot11.advertisedssid.dot11e_qbss\\\": 1, \\\"dot11.advertisedssid.dot11r_mobility_domain_id\\\": 0, \\\"dot11.advertisedssid.dot11r_mobility\\\": 0, \\\"dot11.advertisedssid.first_time\\\": 1628191914, \\\"dot11.advertisedssid.ht_center_2\\\": 0, \\\"dot11.advertisedssid.ht_center_1\\\": 0, \\\"dot11.advertisedssid.ht_mode\\\": \\\"HT20\\\", \\\"dot11.advertisedssid.channel\\\": \\\"1\\\", \\\"dot11.advertisedssid.probe_response\\\": 0, \\\"dot11.advertisedssid.beacon\\\": 1, \\\"dot11.advertisedssid.ssid_hash\\\": 2678865861, \\\"dot11.advertisedssid.wps_config_methods\\\": 0, \\\"dot11.advertisedssid.ssidlen\\\": 15, \\\"dot11.advertisedssid.wps_state\\\": 0, \\\"dot11.advertisedssid.ssid\\\": \\\"Caesars_Resorts\\\", \\\"dot11.advertisedssid.wps_version\\\": 0, \\\"dot11.advertisedssid.last_time\\\": 1628191928, \\\"dot11.advertisedssid.cloaked\\\": 0, \\\"dot11.advertisedssid.crypt_set\\\": 0, \\\"dot11.advertisedssid.maxrate\\\": 144.4, \\\"dot11.advertisedssid.beaconrate\\\": 10, \\\"dot11.advertisedssid.beacons_sec\\\": 13, \\\"dot11.advertisedssid.ietag_checksum\\\": 4119859977, \\\"dot11.advertisedssid.wpa_mfp_required\\\": 0, \\\"dot11.advertisedssid.wpa_mfp_supported\\\": 0, \\\"dot11.advertisedssid.dot11d_country\\\": \\\"\\\"}], \\\"dot11.device.num_associated_clients\\\": 0, \\\"dot11.device.wpa_present_handshake\\\": 0, \\\"dot11.device.client_disconnects\\\": 0, \\\"dot11.device.typeset\\\": 257, \\\"dot11.device.num_responded_ssids\\\": 1, \\\"dot11.device.client_disconnects_last\\\": 0, \\\"dot11.device.bss_timestamp\\\": 1968732813184, \\\"dot11.device.num_fragments\\\": 0, \\\"dot11.device.num_retries\\\": 0, \\\"dot11.device.datasize\\\": 0}, \\\"kismet.device.base.packets.rx\\\": 0, \\\"kismet.device.base.packets.tx\\\": 0, \\\"kismet.device.base.packets.llc\\\": 16, \\\"kismet.device.base.packets.error\\\": 0, \\\"kismet.device.base.packets.data\\\": 0, \\\"kismet.device.base.packets.crypt\\\": 0, \\\"kismet.device.base.packets.filtered\\\": 0, \\\"kismet.device.base.datasize\\\": 0, \\\"kismet.device.base.packets.rrd\\\": {\\\"kismet.common.rrd.blank_val\\\": 0, \\\"kismet.common.rrd.day_vec\\\": [0, 0, 0, 0, 0, 0, 0, 0, 0, 0, 0, 0, 0, 0, 0, 0, 0, 0, 0, 0, 0, 0, 0, 0], \\\"kismet.common.rrd.hour_vec\\\": [0, 0, 0, 0, 0, 0, 0, 0, 0, 0, 0, 0, 0, 0, 0, 0, 0, 0, 0, 0, 0, 0, 0, 0, 0, 0, 0, 0, 0, 0, 0, 0, 0, 0, 0, 0, 0, 0, 0, 0, 0, 0, 0, 0, 0, 0, 0, 0, 0, 0, 0, 0, 0, 0, 0, 0, 0, 0, 0, 0], \\\"kismet.common.rrd.minute_vec\\\": [1, 1, 0, 0, 3, 0, 0, 2, 0, 0, 3, 0, 0, 0, 0, 0, 0, 0, 0, 0, 0, 0, 0, 0, 0, 0, 0, 0, 0, 0, 0, 0, 0, 0, 0, 0, 0, 0, 0, 0, 0, 0, 0, 0, 0, 0, 0, 0, 0, 0, 0, 0, 0, 0, 0, 2, 0, 3, 1, 0], \\\"kismet.common.rrd.serial_time\\\": 1628191931, \\\"kismet.common.rrd.last_time\\\": 1628191931}}\",\"1\":\"{\\\"kismet.device.base.type\\\": \\\"Wi-Fi AP\\\", \\\"kismet.device.base.manuf\\\": \\\"Extreme Networks Inc.\\\", \\\"kismet.server.uuid\\\": \\\"C37B599A-E400-11EB-B3D1-4B49534D4554\\\", \\\"kismet.device.base.seenby\\\": [{\\\"kismet.common.seenby.uuid\\\": \\\"5FE308BD-0000-0000-0000-9CEFD5FD12EE\\\", \\\"kismet.common.seenby.num_packets\\\": 3, \\\"kismet.common.seenby.last_time\\\": 1628191915, \\\"kismet.common.seenby.first_time\\\": 1628191915}, {\\\"kismet.common.seenby.uuid\\\": \\\"5FE308BD-0000-0000-0000-B827EBF1EF3F\\\", \\\"kismet.common.seenby.num_packets\\\": 14, \\\"kismet.common.seenby.last_time\\\": 1628191928, \\\"kismet.common.seenby.first_time\\\": 1628191914}], \\\"kismet.device.base.num_alerts\\\": 0, \\\"kismet.device.base.mod_time\\\": 1628191930, \\\"kismet.device.base.last_time\\\": 1628191928, \\\"kismet.device.base.first_time\\\": 1628191914, \\\"kismet.device.base.frequency\\\": 2412000, \\\"kismet.device.base.basic_crypt_set\\\": 2, \\\"kismet.device.base.channel\\\": \\\"1\\\", \\\"kismet.device.base.crypt\\\": \\\"WPA2-PSK\\\", \\\"kismet.device.base.freq_khz_map\\\": {\\\"2412000\\\": 17}, \\\"kismet.device.base.basic_type_set\\\": 1, \\\"kismet.device.base.signal\\\": {\\\"kismet.common.signal.signal_rrd\\\": {\\\"kismet.common.rrd.blank_val\\\": 0, \\\"kismet.common.rrd.minute_vec\\\": [-76, 0, 0, -78, 0, -74, -76, 0, -77, 0, 0, 0, 0, 0, 0, 0, 0, 0, 0, 0, 0, 0, 0, 0, 0, 0, 0, 0, 0, 0, 0, 0, 0, 0, 0, 0, 0, 0, 0, 0, 0, 0, 0, 0, 0, 0, 0, 0, 0, 0, 0, 0, 0, 0, -75, -68, 0, -75, 0, 0], \\\"kismet.common.rrd.serial_time\\\": 1628191931, \\\"kismet.common.rrd.last_time\\\": 1628191931}, \\\"kismet.common.signal.carrierset\\\": 4, \\\"kismet.common.signal.encodingset\\\": 3, \\\"kismet.common.signal.maxseenrate\\\": 60, \\\"kismet.common.signal.max_noise\\\": 0, \\\"kismet.common.signal.max_signal\\\": -66, \\\"kismet.common.signal.min_noise\\\": 0, \\\"kismet.common.signal.min_signal\\\": -78, \\\"kismet.common.signal.last_noise\\\": 0, \\\"kismet.common.signal.last_signal\\\": -77, \\\"kismet.common.signal.type\\\": \\\"dbm\\\"}, \\\"kismet.device.base.commonname\\\": \\\"ALPHA\\\", \\\"kismet.device.base.name\\\": \\\"ALPHA\\\", \\\"kismet.device.base.phyname\\\": \\\"IEEE802.11\\\", \\\"kismet.device.base.related_devices\\\": {\\\"dot11_bssts_similar\\\": [\\\"4202770D00000000_6062A7810AFC\\\"]}, \\\"kismet.device.base.macaddr\\\": \\\"FC:0A:81:A7:62:61\\\", \\\"kismet.device.base.key\\\": \\\"4202770D00000000_6162A7810AFC\\\", \\\"kismet.device.base.packets.total\\\": 17, \\\"dot11.device\\\": {\\\"dot11.device.last_beaconed_ssid_record\\\": {\\\"dot11.advertisedssid.cisco_client_mfp\\\": 0, \\\"dot11.advertisedssid.ccx_txpower\\\": 0, \\\"dot11.advertisedssid.dot11e_channel_utilization_perc\\\": 16.078431, \\\"dot11.advertisedssid.dot11e_qbss_stations\\\": 0, \\\"dot11.advertisedssid.dot11e_qbss\\\": 1, \\\"dot11.advertisedssid.dot11r_mobility_domain_id\\\": 0, \\\"dot11.advertisedssid.dot11r_mobility\\\": 0, \\\"dot11.advertisedssid.first_time\\\": 1628191914, \\\"dot11.advertisedssid.ht_center_2\\\": 0, \\\"dot11.advertisedssid.ht_center_1\\\": 0, \\\"dot11.advertisedssid.ht_mode\\\": \\\"HT20\\\", \\\"dot11.advertisedssid.channel\\\": \\\"1\\\", \\\"dot11.advertisedssid.probe_response\\\": 0, \\\"dot11.advertisedssid.beacon\\\": 1, \\\"dot11.advertisedssid.ssid_hash\\\": 3179317145, \\\"dot11.advertisedssid.wps_config_methods\\\": 0, \\\"dot11.advertisedssid.ssidlen\\\": 5, \\\"dot11.advertisedssid.wps_state\\\": 0, \\\"dot11.advertisedssid.ssid\\\": \\\"ALPHA\\\", \\\"dot11.advertisedssid.wps_version\\\": 0, \\\"dot11.advertisedssid.last_time\\\": 1628191928, \\\"dot11.advertisedssid.cloaked\\\": 0, \\\"dot11.advertisedssid.crypt_set\\\": 268436162, \\\"dot11.advertisedssid.maxrate\\\": 144.4, \\\"dot11.advertisedssid.beaconrate\\\": 10, \\\"dot11.advertisedssid.beacons_sec\\\": 13, \\\"dot11.advertisedssid.ietag_checksum\\\": 498733285, \\\"dot11.advertisedssid.wpa_mfp_required\\\": 0, \\\"dot11.advertisedssid.wpa_mfp_supported\\\": 0, \\\"dot11.advertisedssid.dot11d_country\\\": \\\"\\\"}, \\\"dot11.device.last_bssid\\\": \\\"FC:0A:81:A7:62:61\\\", \\\"dot11.device.response_fingerprint\\\": 0, \\\"dot11.device.probe_fingerprint\\\": 0, \\\"dot11.device.beacon_fingerprint\\\": 2421800394, \\\"dot11.device.neighbor_report_capable\\\": 0, \\\"dot11.device.link_measurement_capable\\\": 0, \\\"dot11.device.wps_m3_last\\\": 0, \\\"dot11.device.max_tx_power\\\": 0, \\\"dot11.device.wps_m3_count\\\": 0, \\\"dot11.device.min_tx_power\\\": 0, \\\"dot11.device.last_beacon_timestamp\\\": 1628191928, \\\"dot11.device.datasize_retry\\\": 0, \\\"dot11.device.last_sequence\\\": 0, \\\"dot11.device.num_client_aps\\\": 0, \\\"dot11.device.num_advertised_ssids\\\": 1, \\\"dot11.device.num_probed_ssids\\\": 0, \\\"dot11.device.responded_ssid_map\\\": [{\\\"dot11.advertisedssid.cisco_client_mfp\\\": 0, \\\"dot11.advertisedssid.ccx_txpower\\\": 0, \\\"dot11.advertisedssid.dot11e_channel_utilization_perc\\\": 0, \\\"dot11.advertisedssid.dot11e_qbss_stations\\\": 0, \\\"dot11.advertisedssid.dot11e_qbss\\\": 0, \\\"dot11.advertisedssid.dot11r_mobility_domain_id\\\": 0, \\\"dot11.advertisedssid.dot11r_mobility\\\": 0, \\\"dot11.advertisedssid.first_time\\\": 1628191915, \\\"dot11.advertisedssid.ht_center_2\\\": 0, \\\"dot11.advertisedssid.ht_center_1\\\": 0, \\\"dot11.advertisedssid.ht_mode\\\": \\\"\\\", \\\"dot11.advertisedssid.channel\\\": \\\"\\\", \\\"dot11.advertisedssid.probe_response\\\": 1, \\\"dot11.advertisedssid.beacon\\\": 0, \\\"dot11.advertisedssid.ssid_hash\\\": 3179317145, \\\"dot11.advertisedssid.wps_config_methods\\\": 0, \\\"dot11.advertisedssid.ssidlen\\\": 5, \\\"dot11.advertisedssid.wps_state\\\": 0, \\\"dot11.advertisedssid.ssid\\\": \\\"ALPHA\\\", \\\"dot11.advertisedssid.wps_version\\\": 0, \\\"dot11.advertisedssid.last_time\\\": 1628191923, \\\"dot11.advertisedssid.cloaked\\\": 0, \\\"dot11.advertisedssid.crypt_set\\\": 268436162, \\\"dot11.advertisedssid.maxrate\\\": 144.4, \\\"dot11.advertisedssid.beaconrate\\\": 0, \\\"dot11.advertisedssid.beacons_sec\\\": 0, \\\"dot11.advertisedssid.ietag_checksum\\\": 4245295323, \\\"dot11.advertisedssid.wpa_mfp_required\\\": 0, \\\"dot11.advertisedssid.wpa_mfp_supported\\\": 0}], \\\"dot11.device.advertised_ssid_map\\\": [{\\\"dot11.advertisedssid.cisco_client_mfp\\\": 0, \\\"dot11.advertisedssid.ccx_txpower\\\": 0, \\\"dot11.advertisedssid.dot11e_channel_utilization_perc\\\": 16.078431, \\\"dot11.advertisedssid.dot11e_qbss_stations\\\": 0, \\\"dot11.advertisedssid.dot11e_qbss\\\": 1, \\\"dot11.advertisedssid.dot11r_mobility_domain_id\\\": 0, \\\"dot11.advertisedssid.dot11r_mobility\\\": 0, \\\"dot11.advertisedssid.first_time\\\": 1628191914, \\\"dot11.advertisedssid.ht_center_2\\\": 0, \\\"dot11.advertisedssid.ht_center_1\\\": 0, \\\"dot11.advertisedssid.ht_mode\\\": \\\"HT20\\\", \\\"dot11.advertisedssid.channel\\\": \\\"1\\\", \\\"dot11.advertisedssid.probe_response\\\": 0, \\\"dot11.advertisedssid.beacon\\\": 1, \\\"dot11.advertisedssid.ssid_hash\\\": 3179317145, \\\"dot11.advertisedssid.wps_config_methods\\\": 0, \\\"dot11.advertisedssid.ssidlen\\\": 5, \\\"dot11.advertisedssid.wps_state\\\": 0, \\\"dot11.advertisedssid.ssid\\\": \\\"ALPHA\\\", \\\"dot11.advertisedssid.wps_version\\\": 0, \\\"dot11.advertisedssid.last_time\\\": 1628191928, \\\"dot11.advertisedssid.cloaked\\\": 0, \\\"dot11.advertisedssid.crypt_set\\\": 268436162, \\\"dot11.advertisedssid.maxrate\\\": 144.4, \\\"dot11.advertisedssid.beaconrate\\\": 10, \\\"dot11.advertisedssid.beacons_sec\\\": 13, \\\"dot11.advertisedssid.ietag_checksum\\\": 498733285, \\\"dot11.advertisedssid.wpa_mfp_required\\\": 0, \\\"dot11.advertisedssid.wpa_mfp_supported\\\": 0, \\\"dot11.advertisedssid.dot11d_country\\\": \\\"\\\"}], \\\"dot11.device.num_associated_clients\\\": 0, \\\"dot11.device.wpa_present_handshake\\\": 0, \\\"dot11.device.client_disconnects\\\": 0, \\\"dot11.device.typeset\\\": 257, \\\"dot11.device.num_responded_ssids\\\": 1, \\\"dot11.device.client_disconnects_last\\\": 0, \\\"dot11.device.bss_timestamp\\\": 1968732838784, \\\"dot11.device.num_fragments\\\": 0, \\\"dot11.device.num_retries\\\": 0, \\\"dot11.device.datasize\\\": 0}, \\\"kismet.device.base.packets.rx\\\": 0, \\\"kismet.device.base.packets.tx\\\": 0, \\\"kismet.device.base.packets.llc\\\": 17, \\\"kismet.device.base.packets.error\\\": 0, \\\"kismet.device.base.packets.data\\\": 0, \\\"kismet.device.base.packets.crypt\\\": 0, \\\"kismet.device.base.packets.filtered\\\": 0, \\\"kismet.device.base.datasize\\\": 0, \\\"kismet.device.base.packets.rrd\\\": {\\\"kismet.common.rrd.blank_val\\\": 0, \\\"kismet.common.rrd.day_vec\\\": [0, 0, 0, 0, 0, 0, 0, 0, 0, 0, 0, 0, 0, 0, 0, 0, 0, 0, 0, 0, 0, 0, 0, 0], \\\"kismet.common.rrd.hour_vec\\\": [0, 0, 0, 0, 0, 0, 0, 0, 0, 0, 0, 0, 0, 0, 0, 0, 0, 0, 0, 0, 0, 0, 0, 0, 0, 0, 0, 0, 0, 0, 0, 0, 0, 0, 0, 0, 0, 0, 0, 0, 0, 0, 0, 0, 0, 0, 0, 0, 0, 0, 0, 0, 0, 0, 0, 0, 0, 0, 0, 0], \\\"kismet.common.rrd.minute_vec\\\": [1, 1, 0, 0, 3, 0, 0, 2, 0, 0, 3, 0, 0, 0, 0, 0, 0, 0, 0, 0, 0, 0, 0, 0, 0, 0, 0, 0, 0, 0, 0, 0, 0, 0, 0, 0, 0, 0, 0, 0, 0, 0, 0, 0, 0, 0, 0, 0, 0, 0, 0, 0, 0, 0, 0, 2, 0, 4, 1, 0], \\\"kismet.common.rrd.serial_time\\\": 1628191931, \\\"kismet.common.rrd.last_time\\\": 1628191931}}\",\"2\":\"{\\\"kismet.device.base.type\\\": \\\"Wi-Fi AP\\\", \\\"kismet.device.base.manuf\\\": \\\"Zebra Technologies Inc\\\", \\\"kismet.server.uuid\\\": \\\"C37B599A-E400-11EB-B3D1-4B49534D4554\\\", \\\"kismet.device.base.seenby\\\": [{\\\"kismet.common.seenby.uuid\\\": \\\"5FE308BD-0000-0000-0000-9CEFD5FD12EE\\\", \\\"kismet.common.seenby.num_packets\\\": 5, \\\"kismet.common.seenby.last_time\\\": 1628191915, \\\"kismet.common.seenby.first_time\\\": 1628191915}, {\\\"kismet.common.seenby.uuid\\\": \\\"5FE308BD-0000-0000-0000-B827EBF1EF3F\\\", \\\"kismet.common.seenby.num_packets\\\": 17, \\\"kismet.common.seenby.last_time\\\": 1628191928, \\\"kismet.common.seenby.first_time\\\": 1628191914}], \\\"kismet.device.base.num_alerts\\\": 0, \\\"kismet.device.base.mod_time\\\": 1628191930, \\\"kismet.device.base.last_time\\\": 1628191928, \\\"kismet.device.base.first_time\\\": 1628191914, \\\"kismet.device.base.frequency\\\": 2412000, \\\"kismet.device.base.basic_crypt_set\\\": 2, \\\"kismet.device.base.channel\\\": \\\"1\\\", \\\"kismet.device.base.crypt\\\": \\\"WPA2-PSK\\\", \\\"kismet.device.base.freq_khz_map\\\": {\\\"2417000\\\": 2, \\\"2412000\\\": 20}, \\\"kismet.device.base.basic_type_set\\\": 1, \\\"kismet.device.base.signal\\\": {\\\"kismet.common.signal.signal_rrd\\\": {\\\"kismet.common.rrd.blank_val\\\": 0, \\\"kismet.common.rrd.minute_vec\\\": [-85, 0, 0, -84, 0, -86, -82, 0, -86, 0, 0, 0, 0, 0, 0, 0, 0, 0, 0, 0, 0, 0, 0, 0, 0, 0, 0, 0, 0, 0, 0, 0, 0, 0, 0, 0, 0, 0, 0, 0, 0, 0, 0, 0, 0, 0, 0, 0, 0, 0, 0, 0, 0, 0, 0, -80, 0, 0, -82, 0], \\\"kismet.common.rrd.serial_time\\\": 1628191931, \\\"kismet.common.rrd.last_time\\\": 1628191931}, \\\"kismet.common.signal.carrierset\\\": 5, \\\"kismet.common.signal.encodingset\\\": 3, \\\"kismet.common.signal.maxseenrate\\\": 60, \\\"kismet.common.signal.max_noise\\\": 0, \\\"kismet.common.signal.max_signal\\\": -76, \\\"kismet.common.signal.min_noise\\\": 0, \\\"kismet.common.signal.min_signal\\\": -86, \\\"kismet.common.signal.last_noise\\\": 0, \\\"kismet.common.signal.last_signal\\\": -86, \\\"kismet.common.signal.type\\\": \\\"dbm\\\"}, \\\"kismet.device.base.commonname\\\": \\\"ALPHA\\\", \\\"kismet.device.base.name\\\": \\\"ALPHA\\\", \\\"kismet.device.base.phyname\\\": \\\"IEEE802.11\\\", \\\"kismet.device.base.related_devices\\\": {\\\"dot11_bssts_similar\\\": [\\\"4202770D00000000_204E678D2484\\\", \\\"4202770D00000000_224E678D2484\\\"]}, \\\"kismet.device.base.macaddr\\\": \\\"84:24:8D:67:4E:21\\\", \\\"kismet.device.base.key\\\": \\\"4202770D00000000_214E678D2484\\\", \\\"kismet.device.base.packets.total\\\": 22, \\\"dot11.device\\\": {\\\"dot11.device.last_beaconed_ssid_record\\\": {\\\"dot11.advertisedssid.cisco_client_mfp\\\": 0, \\\"dot11.advertisedssid.ccx_txpower\\\": 0, \\\"dot11.advertisedssid.dot11e_channel_utilization_perc\\\": 24.705882, \\\"dot11.advertisedssid.dot11e_qbss_stations\\\": 31, \\\"dot11.advertisedssid.dot11e_qbss\\\": 1, \\\"dot11.advertisedssid.dot11r_mobility_domain_id\\\": 0, \\\"dot11.advertisedssid.dot11r_mobility\\\": 0, \\\"dot11.advertisedssid.first_time\\\": 1628191914, \\\"dot11.advertisedssid.ht_center_2\\\": 0, \\\"dot11.advertisedssid.ht_center_1\\\": 0, \\\"dot11.advertisedssid.ht_mode\\\": \\\"HT20\\\", \\\"dot11.advertisedssid.channel\\\": \\\"1\\\", \\\"dot11.advertisedssid.probe_response\\\": 0, \\\"dot11.advertisedssid.beacon\\\": 1, \\\"dot11.advertisedssid.ssid_hash\\\": 3179317145, \\\"dot11.advertisedssid.wps_config_methods\\\": 0, \\\"dot11.advertisedssid.ssidlen\\\": 5, \\\"dot11.advertisedssid.wps_state\\\": 0, \\\"dot11.advertisedssid.ssid\\\": \\\"ALPHA\\\", \\\"dot11.advertisedssid.wps_version\\\": 0, \\\"dot11.advertisedssid.last_time\\\": 1628191928, \\\"dot11.advertisedssid.cloaked\\\": 0, \\\"dot11.advertisedssid.crypt_set\\\": 268436162, \\\"dot11.advertisedssid.maxrate\\\": 144.4, \\\"dot11.advertisedssid.beaconrate\\\": 10, \\\"dot11.advertisedssid.beacons_sec\\\": 6, \\\"dot11.advertisedssid.ietag_checksum\\\": 855382658, \\\"dot11.advertisedssid.wpa_mfp_required\\\": 0, \\\"dot11.advertisedssid.wpa_mfp_supported\\\": 0, \\\"dot11.advertisedssid.dot11d_country\\\": \\\"US\\\"}, \\\"dot11.device.last_bssid\\\": \\\"84:24:8D:67:4E:21\\\", \\\"dot11.device.response_fingerprint\\\": 0, \\\"dot11.device.probe_fingerprint\\\": 0, \\\"dot11.device.beacon_fingerprint\\\": 2665338153, \\\"dot11.device.neighbor_report_capable\\\": 0, \\\"dot11.device.link_measurement_capable\\\": 0, \\\"dot11.device.wps_m3_last\\\": 0, \\\"dot11.device.max_tx_power\\\": 0, \\\"dot11.device.wps_m3_count\\\": 0, \\\"dot11.device.min_tx_power\\\": 0, \\\"dot11.device.last_beacon_timestamp\\\": 1628191928, \\\"dot11.device.datasize_retry\\\": 0, \\\"dot11.device.last_sequence\\\": 0, \\\"dot11.device.num_client_aps\\\": 0, \\\"dot11.device.num_advertised_ssids\\\": 1, \\\"dot11.device.num_probed_ssids\\\": 0, \\\"dot11.device.responded_ssid_map\\\": [{\\\"dot11.advertisedssid.cisco_client_mfp\\\": 0, \\\"dot11.advertisedssid.ccx_txpower\\\": 0, \\\"dot11.advertisedssid.dot11e_channel_utilization_perc\\\": 0, \\\"dot11.advertisedssid.dot11e_qbss_stations\\\": 0, \\\"dot11.advertisedssid.dot11e_qbss\\\": 0, \\\"dot11.advertisedssid.dot11r_mobility_domain_id\\\": 0, \\\"dot11.advertisedssid.dot11r_mobility\\\": 0, \\\"dot11.advertisedssid.first_time\\\": 1628191915, \\\"dot11.advertisedssid.ht_center_2\\\": 0, \\\"dot11.advertisedssid.ht_center_1\\\": 0, \\\"dot11.advertisedssid.ht_mode\\\": \\\"\\\", \\\"dot11.advertisedssid.channel\\\": \\\"\\\", \\\"dot11.advertisedssid.probe_response\\\": 1, \\\"dot11.advertisedssid.beacon\\\": 0, \\\"dot11.advertisedssid.ssid_hash\\\": 3179317145, \\\"dot11.advertisedssid.wps_config_methods\\\": 0, \\\"dot11.advertisedssid.ssidlen\\\": 5, \\\"dot11.advertisedssid.wps_state\\\": 0, \\\"dot11.advertisedssid.ssid\\\": \\\"ALPHA\\\", \\\"dot11.advertisedssid.wps_version\\\": 0, \\\"dot11.advertisedssid.last_time\\\": 1628191928, \\\"dot11.advertisedssid.cloaked\\\": 0, \\\"dot11.advertisedssid.crypt_set\\\": 268436162, \\\"dot11.advertisedssid.maxrate\\\": 144.4, \\\"dot11.advertisedssid.beaconrate\\\": 0, \\\"dot11.advertisedssid.beacons_sec\\\": 0, \\\"dot11.advertisedssid.ietag_checksum\\\": 3793755553, \\\"dot11.advertisedssid.wpa_mfp_required\\\": 0, \\\"dot11.advertisedssid.wpa_mfp_supported\\\": 0}], \\\"dot11.device.advertised_ssid_map\\\": [{\\\"dot11.advertisedssid.cisco_client_mfp\\\": 0, \\\"dot11.advertisedssid.ccx_txpower\\\": 0, \\\"dot11.advertisedssid.dot11e_channel_utilization_perc\\\": 24.705882, \\\"dot11.advertisedssid.dot11e_qbss_stations\\\": 31, \\\"dot11.advertisedssid.dot11e_qbss\\\": 1, \\\"dot11.advertisedssid.dot11r_mobility_domain_id\\\": 0, \\\"dot11.advertisedssid.dot11r_mobility\\\": 0, \\\"dot11.advertisedssid.first_time\\\": 1628191914, \\\"dot11.advertisedssid.ht_center_2\\\": 0, \\\"dot11.advertisedssid.ht_center_1\\\": 0, \\\"dot11.advertisedssid.ht_mode\\\": \\\"HT20\\\", \\\"dot11.advertisedssid.channel\\\": \\\"1\\\", \\\"dot11.advertisedssid.probe_response\\\": 0, \\\"dot11.advertisedssid.beacon\\\": 1, \\\"dot11.advertisedssid.ssid_hash\\\": 3179317145, \\\"dot11.advertisedssid.wps_config_methods\\\": 0, \\\"dot11.advertisedssid.ssidlen\\\": 5, \\\"dot11.advertisedssid.wps_state\\\": 0, \\\"dot11.advertisedssid.ssid\\\": \\\"ALPHA\\\", \\\"dot11.advertisedssid.wps_version\\\": 0, \\\"dot11.advertisedssid.last_time\\\": 1628191928, \\\"dot11.advertisedssid.cloaked\\\": 0, \\\"dot11.advertisedssid.crypt_set\\\": 268436162, \\\"dot11.advertisedssid.maxrate\\\": 144.4, \\\"dot11.advertisedssid.beaconrate\\\": 10, \\\"dot11.advertisedssid.beacons_sec\\\": 6, \\\"dot11.advertisedssid.ietag_checksum\\\": 855382658, \\\"dot11.advertisedssid.wpa_mfp_required\\\": 0, \\\"dot11.advertisedssid.wpa_mfp_supported\\\": 0, \\\"dot11.advertisedssid.dot11d_country\\\": \\\"US\\\"}], \\\"dot11.device.num_associated_clients\\\": 0, \\\"dot11.device.wpa_present_handshake\\\": 0, \\\"dot11.device.client_disconnects\\\": 0, \\\"dot11.device.typeset\\\": 257, \\\"dot11.device.num_responded_ssids\\\": 1, \\\"dot11.device.client_disconnects_last\\\": 0, \\\"dot11.device.bss_timestamp\\\": 674518016384, \\\"dot11.device.num_fragments\\\": 0, \\\"dot11.device.num_retries\\\": 0, \\\"dot11.device.datasize\\\": 0}, \\\"kismet.device.base.packets.rx\\\": 0, \\\"kismet.device.base.packets.tx\\\": 0, \\\"kismet.device.base.packets.llc\\\": 22, \\\"kismet.device.base.packets.error\\\": 0, \\\"kismet.device.base.packets.data\\\": 0, \\\"kismet.device.base.packets.crypt\\\": 0, \\\"kismet.device.base.packets.filtered\\\": 0, \\\"kismet.device.base.datasize\\\": 0, \\\"kismet.device.base.packets.rrd\\\": {\\\"kismet.common.rrd.blank_val\\\": 0, \\\"kismet.common.rrd.day_vec\\\": [0, 0, 0, 0, 0, 0, 0, 0, 0, 0, 0, 0, 0, 0, 0, 0, 0, 0, 0, 0, 0, 0, 0, 0], \\\"kismet.common.rrd.hour_vec\\\": [0, 0, 0, 0, 0, 0, 0, 0, 0, 0, 0, 0, 0, 0, 0, 0, 0, 0, 0, 0, 0, 0, 0, 0, 0, 0, 0, 0, 0, 0, 0, 0, 0, 0, 0, 0, 0, 0, 0, 0, 0, 0, 0, 0, 0, 0, 0, 0, 0, 0, 0, 0, 0, 0, 0, 0, 0, 0, 0, 0], \\\"kismet.common.rrd.minute_vec\\\": [0, 1, 0, 0, 1, 0, 0, 9, 0, 0, 3, 0, 0, 0, 0, 0, 0, 0, 0, 0, 0, 0, 0, 0, 0, 0, 0, 0, 0, 0, 0, 0, 0, 0, 0, 0, 0, 0, 0, 0, 0, 0, 0, 0, 0, 0, 0, 0, 0, 0, 0, 0, 0, 0, 0, 1, 1, 5, 1, 0], \\\"kismet.common.rrd.serial_time\\\": 1628191931, \\\"kismet.common.rrd.last_time\\\": 1628191931}}\",\"3\":\"{\\\"kismet.device.base.type\\\": \\\"Wi-Fi AP\\\", \\\"kismet.device.base.manuf\\\": \\\"Zebra Technologies Inc\\\", \\\"kismet.server.uuid\\\": \\\"C37B599A-E400-11EB-B3D1-4B49534D4554\\\", \\\"kismet.device.base.seenby\\\": [{\\\"kismet.common.seenby.uuid\\\": \\\"5FE308BD-0000-0000-0000-9CEFD5FD12EE\\\", \\\"kismet.common.seenby.num_packets\\\": 1, \\\"kismet.common.seenby.last_time\\\": 1628191915, \\\"kismet.common.seenby.first_time\\\": 1628191915}, {\\\"kismet.common.seenby.uuid\\\": \\\"5FE308BD-0000-0000-0000-B827EBF1EF3F\\\", \\\"kismet.common.seenby.num_packets\\\": 7, \\\"kismet.common.seenby.last_time\\\": 1628191925, \\\"kismet.common.seenby.first_time\\\": 1628191914}], \\\"kismet.device.base.num_alerts\\\": 0, \\\"kismet.device.base.mod_time\\\": 1628191927, \\\"kismet.device.base.last_time\\\": 1628191925, \\\"kismet.device.base.first_time\\\": 1628191914, \\\"kismet.device.base.frequency\\\": 2412000, \\\"kismet.device.base.basic_crypt_set\\\": 2, \\\"kismet.device.base.channel\\\": \\\"1\\\", \\\"kismet.device.base.crypt\\\": \\\"WPA2-PSK\\\", \\\"kismet.device.base.freq_khz_map\\\": {\\\"2412000\\\": 8}, \\\"kismet.device.base.basic_type_set\\\": 1, \\\"kismet.device.base.signal\\\": {\\\"kismet.common.signal.signal_rrd\\\": {\\\"kismet.common.rrd.blank_val\\\": 0, \\\"kismet.common.rrd.minute_vec\\\": [-85, 0, 0, -84, 0, -88, 0, 0, 0, 0, 0, 0, 0, 0, 0, 0, 0, 0, 0, 0, 0, 0, 0, 0, 0, 0, 0, 0, 0, 0, 0, 0, 0, 0, 0, 0, 0, 0, 0, 0, 0, 0, 0, 0, 0, 0, 0, 0, 0, 0, 0, 0, 0, 0, -88, -78, 0, 0, 0, 0], \\\"kismet.common.rrd.serial_time\\\": 1628191931, \\\"kismet.common.rrd.last_time\\\": 1628191931}, \\\"kismet.common.signal.carrierset\\\": 4, \\\"kismet.common.signal.encodingset\\\": 3, \\\"kismet.common.signal.maxseenrate\\\": 60, \\\"kismet.common.signal.max_noise\\\": 0, \\\"kismet.common.signal.max_signal\\\": -78, \\\"kismet.common.signal.min_noise\\\": 0, \\\"kismet.common.signal.min_signal\\\": -88, \\\"kismet.common.signal.last_noise\\\": 0, \\\"kismet.common.signal.last_signal\\\": -88, \\\"kismet.common.signal.type\\\": \\\"dbm\\\"}, \\\"kismet.device.base.commonname\\\": \\\"BETA\\\", \\\"kismet.device.base.name\\\": \\\"BETA\\\", \\\"kismet.device.base.phyname\\\": \\\"IEEE802.11\\\", \\\"kismet.device.base.related_devices\\\": {\\\"dot11_bssts_similar\\\": [\\\"4202770D00000000_204E678D2484\\\", \\\"4202770D00000000_214E678D2484\\\"]}, \\\"kismet.device.base.macaddr\\\": \\\"84:24:8D:67:4E:22\\\", \\\"kismet.device.base.key\\\": \\\"4202770D00000000_224E678D2484\\\", \\\"kismet.device.base.packets.total\\\": 8, \\\"dot11.device\\\": {\\\"dot11.device.last_beaconed_ssid_record\\\": {\\\"dot11.advertisedssid.cisco_client_mfp\\\": 0, \\\"dot11.advertisedssid.ccx_txpower\\\": 0, \\\"dot11.advertisedssid.dot11e_channel_utilization_perc\\\": 24.705882, \\\"dot11.advertisedssid.dot11e_qbss_stations\\\": 31, \\\"dot11.advertisedssid.dot11e_qbss\\\": 1, \\\"dot11.advertisedssid.dot11r_mobility_domain_id\\\": 0, \\\"dot11.advertisedssid.dot11r_mobility\\\": 0, \\\"dot11.advertisedssid.first_time\\\": 1628191914, \\\"dot11.advertisedssid.ht_center_2\\\": 0, \\\"dot11.advertisedssid.ht_center_1\\\": 0, \\\"dot11.advertisedssid.ht_mode\\\": \\\"HT20\\\", \\\"dot11.advertisedssid.channel\\\": \\\"1\\\", \\\"dot11.advertisedssid.probe_response\\\": 0, \\\"dot11.advertisedssid.beacon\\\": 1, \\\"dot11.advertisedssid.ssid_hash\\\": 1040977504, \\\"dot11.advertisedssid.wps_config_methods\\\": 0, \\\"dot11.advertisedssid.ssidlen\\\": 4, \\\"dot11.advertisedssid.wps_state\\\": 0, \\\"dot11.advertisedssid.ssid\\\": \\\"BETA\\\", \\\"dot11.advertisedssid.wps_version\\\": 0, \\\"dot11.advertisedssid.last_time\\\": 1628191925, \\\"dot11.advertisedssid.cloaked\\\": 0, \\\"dot11.advertisedssid.crypt_set\\\": 268436162, \\\"dot11.advertisedssid.maxrate\\\": 144.4, \\\"dot11.advertisedssid.beaconrate\\\": 10, \\\"dot11.advertisedssid.beacons_sec\\\": 8, \\\"dot11.advertisedssid.ietag_checksum\\\": 4184545846, \\\"dot11.advertisedssid.wpa_mfp_required\\\": 0, \\\"dot11.advertisedssid.wpa_mfp_supported\\\": 0, \\\"dot11.advertisedssid.dot11d_country\\\": \\\"US\\\"}, \\\"dot11.device.last_bssid\\\": \\\"84:24:8D:67:4E:22\\\", \\\"dot11.device.response_fingerprint\\\": 0, \\\"dot11.device.probe_fingerprint\\\": 0, \\\"dot11.device.beacon_fingerprint\\\": 797379042, \\\"dot11.device.neighbor_report_capable\\\": 0, \\\"dot11.device.link_measurement_capable\\\": 0, \\\"dot11.device.wps_m3_last\\\": 0, \\\"dot11.device.max_tx_power\\\": 0, \\\"dot11.device.wps_m3_count\\\": 0, \\\"dot11.device.min_tx_power\\\": 0, \\\"dot11.device.last_beacon_timestamp\\\": 1628191925, \\\"dot11.device.datasize_retry\\\": 0, \\\"dot11.device.last_sequence\\\": 0, \\\"dot11.device.num_client_aps\\\": 0, \\\"dot11.device.num_advertised_ssids\\\": 1, \\\"dot11.device.num_probed_ssids\\\": 0, \\\"dot11.device.advertised_ssid_map\\\": [{\\\"dot11.advertisedssid.cisco_client_mfp\\\": 0, \\\"dot11.advertisedssid.ccx_txpower\\\": 0, \\\"dot11.advertisedssid.dot11e_channel_utilization_perc\\\": 24.705882, \\\"dot11.advertisedssid.dot11e_qbss_stations\\\": 31, \\\"dot11.advertisedssid.dot11e_qbss\\\": 1, \\\"dot11.advertisedssid.dot11r_mobility_domain_id\\\": 0, \\\"dot11.advertisedssid.dot11r_mobility\\\": 0, \\\"dot11.advertisedssid.first_time\\\": 1628191914, \\\"dot11.advertisedssid.ht_center_2\\\": 0, \\\"dot11.advertisedssid.ht_center_1\\\": 0, \\\"dot11.advertisedssid.ht_mode\\\": \\\"HT20\\\", \\\"dot11.advertisedssid.channel\\\": \\\"1\\\", \\\"dot11.advertisedssid.probe_response\\\": 0, \\\"dot11.advertisedssid.beacon\\\": 1, \\\"dot11.advertisedssid.ssid_hash\\\": 1040977504, \\\"dot11.advertisedssid.wps_config_methods\\\": 0, \\\"dot11.advertisedssid.ssidlen\\\": 4, \\\"dot11.advertisedssid.wps_state\\\": 0, \\\"dot11.advertisedssid.ssid\\\": \\\"BETA\\\", \\\"dot11.advertisedssid.wps_version\\\": 0, \\\"dot11.advertisedssid.last_time\\\": 1628191925, \\\"dot11.advertisedssid.cloaked\\\": 0, \\\"dot11.advertisedssid.crypt_set\\\": 268436162, \\\"dot11.advertisedssid.maxrate\\\": 144.4, \\\"dot11.advertisedssid.beaconrate\\\": 10, \\\"dot11.advertisedssid.beacons_sec\\\": 8, \\\"dot11.advertisedssid.ietag_checksum\\\": 4184545846, \\\"dot11.advertisedssid.wpa_mfp_required\\\": 0, \\\"dot11.advertisedssid.wpa_mfp_supported\\\": 0, \\\"dot11.advertisedssid.dot11d_country\\\": \\\"US\\\"}], \\\"dot11.device.num_associated_clients\\\": 0, \\\"dot11.device.wpa_present_handshake\\\": 0, \\\"dot11.device.client_disconnects\\\": 0, \\\"dot11.device.typeset\\\": 1, \\\"dot11.device.num_responded_ssids\\\": 0, \\\"dot11.device.client_disconnects_last\\\": 0, \\\"dot11.device.bss_timestamp\\\": 674515046784, \\\"dot11.device.num_fragments\\\": 0, \\\"dot11.device.num_retries\\\": 0, \\\"dot11.device.datasize\\\": 0}, \\\"kismet.device.base.packets.rx\\\": 0, \\\"kismet.device.base.packets.tx\\\": 0, \\\"kismet.device.base.packets.llc\\\": 8, \\\"kismet.device.base.packets.error\\\": 0, \\\"kismet.device.base.packets.data\\\": 0, \\\"kismet.device.base.packets.crypt\\\": 0, \\\"kismet.device.base.packets.filtered\\\": 0, \\\"kismet.device.base.datasize\\\": 0, \\\"kismet.device.base.packets.rrd\\\": {\\\"kismet.common.rrd.blank_val\\\": 0, \\\"kismet.common.rrd.day_vec\\\": [0, 0, 0, 0, 0, 0, 0, 0, 0, 0, 0, 0, 0, 0, 0, 0, 0, 0, 0, 0, 0, 0, 0, 0], \\\"kismet.common.rrd.hour_vec\\\": [0, 0, 0, 0, 0, 0, 0, 0, 0, 0, 0, 0, 0, 0, 0, 0, 0, 0, 0, 0, 0, 0, 0, 0, 0, 0, 0, 0, 0, 0, 0, 0, 0, 0, 0, 0, 0, 0, 0, 0, 0, 0, 0, 0, 0, 0, 0, 0, 0, 0, 0, 0, 0, 0, 0, 0, 0, 0, 0, 0], \\\"kismet.common.rrd.minute_vec\\\": [1, 1, 0, 0, 1, 0, 0, 2, 0, 0, 0, 0, 0, 0, 0, 0, 0, 0, 0, 0, 0, 0, 0, 0, 0, 0, 0, 0, 0, 0, 0, 0, 0, 0, 0, 0, 0, 0, 0, 0, 0, 0, 0, 0, 0, 0, 0, 0, 0, 0, 0, 0, 0, 0, 0, 2, 0, 1, 0, 0], \\\"kismet.common.rrd.serial_time\\\": 1628191931, \\\"kismet.common.rrd.last_time\\\": 1628191931}}\",\"4\":\"{\\\"kismet.device.base.type\\\": \\\"Wi-Fi AP\\\", \\\"kismet.device.base.manuf\\\": \\\"Zebra Technologies Inc\\\", \\\"kismet.server.uuid\\\": \\\"C37B599A-E400-11EB-B3D1-4B49534D4554\\\", \\\"kismet.device.base.seenby\\\": [{\\\"kismet.common.seenby.uuid\\\": \\\"5FE308BD-0000-0000-0000-B827EBF1EF3F\\\", \\\"kismet.common.seenby.num_packets\\\": 2, \\\"kismet.common.seenby.last_time\\\": 1628191917, \\\"kismet.common.seenby.first_time\\\": 1628191914}], \\\"kismet.device.base.num_alerts\\\": 0, \\\"kismet.device.base.mod_time\\\": 1628191917, \\\"kismet.device.base.last_time\\\": 1628191917, \\\"kismet.device.base.first_time\\\": 1628191914, \\\"kismet.device.base.frequency\\\": 2412000, \\\"kismet.device.base.basic_crypt_set\\\": 2, \\\"kismet.device.base.channel\\\": \\\"1\\\", \\\"kismet.device.base.crypt\\\": \\\"WPA2-PSK\\\", \\\"kismet.device.base.freq_khz_map\\\": {\\\"2412000\\\": 2}, \\\"kismet.device.base.basic_type_set\\\": 1, \\\"kismet.device.base.signal\\\": {\\\"kismet.common.signal.signal_rrd\\\": {\\\"kismet.common.rrd.blank_val\\\": 0, \\\"kismet.common.rrd.minute_vec\\\": [0, 0, 0, 0, 0, 0, 0, 0, 0, 0, 0, 0, 0, 0, 0, 0, 0, 0, 0, 0, 0, 0, 0, 0, 0, 0, 0, 0, 0, 0, 0, 0, 0, 0, 0, 0, 0, 0, 0, 0, 0, 0, 0, 0, 0, 0, 0, 0, 0, 0, 0, 0, 0, 0, 0, 0, 0, -92, 0, 0], \\\"kismet.common.rrd.serial_time\\\": 1628191931, \\\"kismet.common.rrd.last_time\\\": 1628191931}, \\\"kismet.common.signal.carrierset\\\": 0, \\\"kismet.common.signal.encodingset\\\": 0, \\\"kismet.common.signal.maxseenrate\\\": 0, \\\"kismet.common.signal.max_noise\\\": 0, \\\"kismet.common.signal.max_signal\\\": -88, \\\"kismet.common.signal.min_noise\\\": 0, \\\"kismet.common.signal.min_signal\\\": -92, \\\"kismet.common.signal.last_noise\\\": 0, \\\"kismet.common.signal.last_signal\\\": -92, \\\"kismet.common.signal.type\\\": \\\"dbm\\\"}, \\\"kismet.device.base.commonname\\\": \\\"ALPHA\\\", \\\"kismet.device.base.name\\\": \\\"ALPHA\\\", \\\"kismet.device.base.phyname\\\": \\\"IEEE802.11\\\", \\\"kismet.device.base.related_devices\\\": {}, \\\"kismet.device.base.macaddr\\\": \\\"84:24:8D:65:31:A1\\\", \\\"kismet.device.base.key\\\": \\\"4202770D00000000_A131658D2484\\\", \\\"kismet.device.base.packets.total\\\": 2, \\\"dot11.device\\\": {\\\"dot11.device.last_beaconed_ssid_record\\\": {\\\"dot11.advertisedssid.cisco_client_mfp\\\": 0, \\\"dot11.advertisedssid.ccx_txpower\\\": 0, \\\"dot11.advertisedssid.dot11e_channel_utilization_perc\\\": 0, \\\"dot11.advertisedssid.dot11e_qbss_stations\\\": 0, \\\"dot11.advertisedssid.dot11e_qbss\\\": 0, \\\"dot11.advertisedssid.dot11r_mobility_domain_id\\\": 0, \\\"dot11.advertisedssid.dot11r_mobility\\\": 0, \\\"dot11.advertisedssid.first_time\\\": 1628191914, \\\"dot11.advertisedssid.ht_center_2\\\": 0, \\\"dot11.advertisedssid.ht_center_1\\\": 0, \\\"dot11.advertisedssid.ht_mode\\\": \\\"\\\", \\\"dot11.advertisedssid.channel\\\": \\\"\\\", \\\"dot11.advertisedssid.probe_response\\\": 1, \\\"dot11.advertisedssid.beacon\\\": 0, \\\"dot11.advertisedssid.ssid_hash\\\": 3179317145, \\\"dot11.advertisedssid.wps_config_methods\\\": 0, \\\"dot11.advertisedssid.ssidlen\\\": 5, \\\"dot11.advertisedssid.wps_state\\\": 0, \\\"dot11.advertisedssid.ssid\\\": \\\"ALPHA\\\", \\\"dot11.advertisedssid.wps_version\\\": 0, \\\"dot11.advertisedssid.last_time\\\": 1628191917, \\\"dot11.advertisedssid.cloaked\\\": 0, \\\"dot11.advertisedssid.crypt_set\\\": 268436162, \\\"dot11.advertisedssid.maxrate\\\": 144.4, \\\"dot11.advertisedssid.beaconrate\\\": 0, \\\"dot11.advertisedssid.beacons_sec\\\": 0, \\\"dot11.advertisedssid.ietag_checksum\\\": 1164189419, \\\"dot11.advertisedssid.wpa_mfp_required\\\": 0, \\\"dot11.advertisedssid.wpa_mfp_supported\\\": 0}, \\\"dot11.device.last_bssid\\\": \\\"84:24:8D:65:31:A1\\\", \\\"dot11.device.response_fingerprint\\\": 0, \\\"dot11.device.probe_fingerprint\\\": 0, \\\"dot11.device.beacon_fingerprint\\\": 0, \\\"dot11.device.neighbor_report_capable\\\": 0, \\\"dot11.device.link_measurement_capable\\\": 0, \\\"dot11.device.wps_m3_last\\\": 0, \\\"dot11.device.max_tx_power\\\": 0, \\\"dot11.device.wps_m3_count\\\": 0, \\\"dot11.device.min_tx_power\\\": 0, \\\"dot11.device.last_beacon_timestamp\\\": 0, \\\"dot11.device.datasize_retry\\\": 0, \\\"dot11.device.last_sequence\\\": 0, \\\"dot11.device.num_client_aps\\\": 0, \\\"dot11.device.num_advertised_ssids\\\": 0, \\\"dot11.device.num_probed_ssids\\\": 0, \\\"dot11.device.responded_ssid_map\\\": [{\\\"dot11.advertisedssid.cisco_client_mfp\\\": 0, \\\"dot11.advertisedssid.ccx_txpower\\\": 0, \\\"dot11.advertisedssid.dot11e_channel_utilization_perc\\\": 0, \\\"dot11.advertisedssid.dot11e_qbss_stations\\\": 0, \\\"dot11.advertisedssid.dot11e_qbss\\\": 0, \\\"dot11.advertisedssid.dot11r_mobility_domain_id\\\": 0, \\\"dot11.advertisedssid.dot11r_mobility\\\": 0, \\\"dot11.advertisedssid.first_time\\\": 1628191914, \\\"dot11.advertisedssid.ht_center_2\\\": 0, \\\"dot11.advertisedssid.ht_center_1\\\": 0, \\\"dot11.advertisedssid.ht_mode\\\": \\\"\\\", \\\"dot11.advertisedssid.channel\\\": \\\"\\\", \\\"dot11.advertisedssid.probe_response\\\": 1, \\\"dot11.advertisedssid.beacon\\\": 0, \\\"dot11.advertisedssid.ssid_hash\\\": 3179317145, \\\"dot11.advertisedssid.wps_config_methods\\\": 0, \\\"dot11.advertisedssid.ssidlen\\\": 5, \\\"dot11.advertisedssid.wps_state\\\": 0, \\\"dot11.advertisedssid.ssid\\\": \\\"ALPHA\\\", \\\"dot11.advertisedssid.wps_version\\\": 0, \\\"dot11.advertisedssid.last_time\\\": 1628191917, \\\"dot11.advertisedssid.cloaked\\\": 0, \\\"dot11.advertisedssid.crypt_set\\\": 268436162, \\\"dot11.advertisedssid.maxrate\\\": 144.4, \\\"dot11.advertisedssid.beaconrate\\\": 0, \\\"dot11.advertisedssid.beacons_sec\\\": 0, \\\"dot11.advertisedssid.ietag_checksum\\\": 1164189419, \\\"dot11.advertisedssid.wpa_mfp_required\\\": 0, \\\"dot11.advertisedssid.wpa_mfp_supported\\\": 0}], \\\"dot11.device.num_associated_clients\\\": 0, \\\"dot11.device.wpa_present_handshake\\\": 0, \\\"dot11.device.client_disconnects\\\": 0, \\\"dot11.device.typeset\\\": 256, \\\"dot11.device.num_responded_ssids\\\": 1, \\\"dot11.device.client_disconnects_last\\\": 0, \\\"dot11.device.bss_timestamp\\\": 0, \\\"dot11.device.num_fragments\\\": 0, \\\"dot11.device.num_retries\\\": 0, \\\"dot11.device.datasize\\\": 0}, \\\"kismet.device.base.packets.rx\\\": 0, \\\"kismet.device.base.packets.tx\\\": 0, \\\"kismet.device.base.packets.llc\\\": 2, \\\"kismet.device.base.packets.error\\\": 0, \\\"kismet.device.base.packets.data\\\": 0, \\\"kismet.device.base.packets.crypt\\\": 0, \\\"kismet.device.base.packets.filtered\\\": 0, \\\"kismet.device.base.datasize\\\": 0, \\\"kismet.device.base.packets.rrd\\\": {\\\"kismet.common.rrd.blank_val\\\": 0, \\\"kismet.common.rrd.day_vec\\\": [0, 0, 0, 0, 0, 0, 0, 0, 0, 0, 0, 0, 0, 0, 0, 0, 0, 0, 0, 0, 0, 0, 0, 0], \\\"kismet.common.rrd.hour_vec\\\": [0, 0, 0, 0, 0, 0, 0, 0, 0, 0, 0, 0, 0, 0, 0, 0, 0, 0, 0, 0, 0, 0, 0, 0, 0, 0, 0, 0, 0, 0, 0, 0, 0, 0, 0, 0, 0, 0, 0, 0, 0, 0, 0, 0, 0, 0, 0, 0, 0, 0, 0, 0, 0, 0, 0, 0, 0, 0, 0, 0], \\\"kismet.common.rrd.minute_vec\\\": [0, 0, 0, 0, 0, 0, 0, 0, 0, 0, 0, 0, 0, 0, 0, 0, 0, 0, 0, 0, 0, 0, 0, 0, 0, 0, 0, 0, 0, 0, 0, 0, 0, 0, 0, 0, 0, 0, 0, 0, 0, 0, 0, 0, 0, 0, 0, 0, 0, 0, 0, 0, 0, 0, 0, 1, 0, 1, 0, 0], \\\"kismet.common.rrd.serial_time\\\": 1628191931, \\\"kismet.common.rrd.last_time\\\": 1628191931}}\"}}\n"
     ]
    }
   ],
   "source": [
    "print(json_data)"
   ]
  },
  {
   "cell_type": "code",
   "execution_count": 31,
   "metadata": {
    "colab": {
     "base_uri": "https://localhost:8080/"
    },
    "id": "Lz_PWvxpbSIG",
    "outputId": "72e0e4ed-6487-4740-a41e-232a59c10837"
   },
   "outputs": [
    {
     "name": "stdout",
     "output_type": "stream",
     "text": [
      "{\n",
      "  \"first_time\": {\n",
      "    \"0\": 1628191914,\n",
      "    \"1\": 1628191914,\n",
      "    \"2\": 1628191914,\n",
      "    \"3\": 1628191914,\n",
      "    \"4\": 1628191914\n",
      "  },\n",
      "  \"last_time\": {\n",
      "    \"0\": 1628191928,\n",
      "    \"1\": 1628191928,\n",
      "    \"2\": 1628191928,\n",
      "    \"3\": 1628191925,\n",
      "    \"4\": 1628191917\n",
      "  },\n",
      "  \"devkey\": {\n",
      "    \"0\": \"4202770D00000000_6062A7810AFC\",\n",
      "    \"1\": \"4202770D00000000_6162A7810AFC\",\n",
      "    \"2\": \"4202770D00000000_214E678D2484\",\n",
      "    \"3\": \"4202770D00000000_224E678D2484\",\n",
      "    \"4\": \"4202770D00000000_A131658D2484\"\n",
      "  },\n",
      "  \"phyname\": {\n",
      "    \"0\": \"IEEE802.11\",\n",
      "    \"1\": \"IEEE802.11\",\n",
      "    \"2\": \"IEEE802.11\",\n",
      "    \"3\": \"IEEE802.11\",\n",
      "    \"4\": \"IEEE802.11\"\n",
      "  },\n",
      "  \"devmac\": {\n",
      "    \"0\": \"FC:0A:81:A7:62:60\",\n",
      "    \"1\": \"FC:0A:81:A7:62:61\",\n",
      "    \"2\": \"84:24:8D:67:4E:21\",\n",
      "    \"3\": \"84:24:8D:67:4E:22\",\n",
      "    \"4\": \"84:24:8D:65:31:A1\"\n",
      "  },\n",
      "  \"strongest_signal\": {\n",
      "    \"0\": -68,\n",
      "    \"1\": -66,\n",
      "    \"2\": -76,\n",
      "    \"3\": -78,\n",
      "    \"4\": -88\n",
      "  },\n",
      "  \"min_lat\": {\n",
      "    \"0\": 0.0,\n",
      "    \"1\": 0.0,\n",
      "    \"2\": 0.0,\n",
      "    \"3\": 0.0,\n",
      "    \"4\": 0.0\n",
      "  },\n",
      "  \"min_lon\": {\n",
      "    \"0\": 0.0,\n",
      "    \"1\": 0.0,\n",
      "    \"2\": 0.0,\n",
      "    \"3\": 0.0,\n",
      "    \"4\": 0.0\n",
      "  },\n",
      "  \"max_lat\": {\n",
      "    \"0\": 0.0,\n",
      "    \"1\": 0.0,\n",
      "    \"2\": 0.0,\n",
      "    \"3\": 0.0,\n",
      "    \"4\": 0.0\n",
      "  },\n",
      "  \"max_lon\": {\n",
      "    \"0\": 0.0,\n",
      "    \"1\": 0.0,\n",
      "    \"2\": 0.0,\n",
      "    \"3\": 0.0,\n",
      "    \"4\": 0.0\n",
      "  },\n",
      "  \"avg_lat\": {\n",
      "    \"0\": 0.0,\n",
      "    \"1\": 0.0,\n",
      "    \"2\": 0.0,\n",
      "    \"3\": 0.0,\n",
      "    \"4\": 0.0\n",
      "  },\n",
      "  \"avg_lon\": {\n",
      "    \"0\": 0.0,\n",
      "    \"1\": 0.0,\n",
      "    \"2\": 0.0,\n",
      "    \"3\": 0.0,\n",
      "    \"4\": 0.0\n",
      "  },\n",
      "  \"bytes_data\": {\n",
      "    \"0\": 0,\n",
      "    \"1\": 0,\n",
      "    \"2\": 0,\n",
      "    \"3\": 0,\n",
      "    \"4\": 0\n",
      "  },\n",
      "  \"type\": {\n",
      "    \"0\": \"Wi-Fi AP\",\n",
      "    \"1\": \"Wi-Fi AP\",\n",
      "    \"2\": \"Wi-Fi AP\",\n",
      "    \"3\": \"Wi-Fi AP\",\n",
      "    \"4\": \"Wi-Fi AP\"\n",
      "  },\n",
      "  \"device\": {\n",
      "    \"0\": \"{\\\"kismet.device.base.type\\\": \\\"Wi-Fi AP\\\", \\\"kismet.device.base.manuf\\\": \\\"Extreme Networks Inc.\\\", \\\"kismet.server.uuid\\\": \\\"C37B599A-E400-11EB-B3D1-4B49534D4554\\\", \\\"kismet.device.base.seenby\\\": [{\\\"kismet.common.seenby.uuid\\\": \\\"5FE308BD-0000-0000-0000-9CEFD5FD12EE\\\", \\\"kismet.common.seenby.num_packets\\\": 2, \\\"kismet.common.seenby.last_time\\\": 1628191915, \\\"kismet.common.seenby.first_time\\\": 1628191915}, {\\\"kismet.common.seenby.uuid\\\": \\\"5FE308BD-0000-0000-0000-B827EBF1EF3F\\\", \\\"kismet.common.seenby.num_packets\\\": 14, \\\"kismet.common.seenby.last_time\\\": 1628191928, \\\"kismet.common.seenby.first_time\\\": 1628191914}], \\\"kismet.device.base.num_alerts\\\": 0, \\\"kismet.device.base.mod_time\\\": 1628191930, \\\"kismet.device.base.last_time\\\": 1628191928, \\\"kismet.device.base.first_time\\\": 1628191914, \\\"kismet.device.base.frequency\\\": 2412000, \\\"kismet.device.base.basic_crypt_set\\\": 0, \\\"kismet.device.base.channel\\\": \\\"1\\\", \\\"kismet.device.base.crypt\\\": \\\"Open\\\", \\\"kismet.device.base.freq_khz_map\\\": {\\\"2412000\\\": 16}, \\\"kismet.device.base.basic_type_set\\\": 1, \\\"kismet.device.base.signal\\\": {\\\"kismet.common.signal.signal_rrd\\\": {\\\"kismet.common.rrd.blank_val\\\": 0, \\\"kismet.common.rrd.minute_vec\\\": [-77, 0, 0, -75, 0, -74, -73, 0, -76, 0, 0, 0, 0, 0, 0, 0, 0, 0, 0, 0, 0, 0, 0, 0, 0, 0, 0, 0, 0, 0, 0, 0, 0, 0, 0, 0, 0, 0, 0, 0, 0, 0, 0, 0, 0, 0, 0, 0, 0, 0, 0, 0, 0, 0, -76, -68, 0, -74, 0, 0], \\\"kismet.common.rrd.serial_time\\\": 1628191931, \\\"kismet.common.rrd.last_time\\\": 1628191931}, \\\"kismet.common.signal.carrierset\\\": 4, \\\"kismet.common.signal.encodingset\\\": 3, \\\"kismet.common.signal.maxseenrate\\\": 60, \\\"kismet.common.signal.max_noise\\\": 0, \\\"kismet.common.signal.max_signal\\\": -68, \\\"kismet.common.signal.min_noise\\\": 0, \\\"kismet.common.signal.min_signal\\\": -77, \\\"kismet.common.signal.last_noise\\\": 0, \\\"kismet.common.signal.last_signal\\\": -76, \\\"kismet.common.signal.type\\\": \\\"dbm\\\"}, \\\"kismet.device.base.commonname\\\": \\\"Caesars_Resorts\\\", \\\"kismet.device.base.name\\\": \\\"Caesars_Resorts\\\", \\\"kismet.device.base.phyname\\\": \\\"IEEE802.11\\\", \\\"kismet.device.base.related_devices\\\": {\\\"dot11_bssts_similar\\\": [\\\"4202770D00000000_6162A7810AFC\\\"]}, \\\"kismet.device.base.macaddr\\\": \\\"FC:0A:81:A7:62:60\\\", \\\"kismet.device.base.key\\\": \\\"4202770D00000000_6062A7810AFC\\\", \\\"kismet.device.base.packets.total\\\": 16, \\\"dot11.device\\\": {\\\"dot11.device.last_beaconed_ssid_record\\\": {\\\"dot11.advertisedssid.cisco_client_mfp\\\": 0, \\\"dot11.advertisedssid.ccx_txpower\\\": 0, \\\"dot11.advertisedssid.dot11e_channel_utilization_perc\\\": 14.509804, \\\"dot11.advertisedssid.dot11e_qbss_stations\\\": 0, \\\"dot11.advertisedssid.dot11e_qbss\\\": 1, \\\"dot11.advertisedssid.dot11r_mobility_domain_id\\\": 0, \\\"dot11.advertisedssid.dot11r_mobility\\\": 0, \\\"dot11.advertisedssid.first_time\\\": 1628191914, \\\"dot11.advertisedssid.ht_center_2\\\": 0, \\\"dot11.advertisedssid.ht_center_1\\\": 0, \\\"dot11.advertisedssid.ht_mode\\\": \\\"HT20\\\", \\\"dot11.advertisedssid.channel\\\": \\\"1\\\", \\\"dot11.advertisedssid.probe_response\\\": 0, \\\"dot11.advertisedssid.beacon\\\": 1, \\\"dot11.advertisedssid.ssid_hash\\\": 2678865861, \\\"dot11.advertisedssid.wps_config_methods\\\": 0, \\\"dot11.advertisedssid.ssidlen\\\": 15, \\\"dot11.advertisedssid.wps_state\\\": 0, \\\"dot11.advertisedssid.ssid\\\": \\\"Caesars_Resorts\\\", \\\"dot11.advertisedssid.wps_version\\\": 0, \\\"dot11.advertisedssid.last_time\\\": 1628191928, \\\"dot11.advertisedssid.cloaked\\\": 0, \\\"dot11.advertisedssid.crypt_set\\\": 0, \\\"dot11.advertisedssid.maxrate\\\": 144.4, \\\"dot11.advertisedssid.beaconrate\\\": 10, \\\"dot11.advertisedssid.beacons_sec\\\": 13, \\\"dot11.advertisedssid.ietag_checksum\\\": 4119859977, \\\"dot11.advertisedssid.wpa_mfp_required\\\": 0, \\\"dot11.advertisedssid.wpa_mfp_supported\\\": 0, \\\"dot11.advertisedssid.dot11d_country\\\": \\\"\\\"}, \\\"dot11.device.last_bssid\\\": \\\"FC:0A:81:A7:62:60\\\", \\\"dot11.device.response_fingerprint\\\": 0, \\\"dot11.device.probe_fingerprint\\\": 0, \\\"dot11.device.beacon_fingerprint\\\": 1374777289, \\\"dot11.device.neighbor_report_capable\\\": 0, \\\"dot11.device.link_measurement_capable\\\": 0, \\\"dot11.device.wps_m3_last\\\": 0, \\\"dot11.device.max_tx_power\\\": 0, \\\"dot11.device.wps_m3_count\\\": 0, \\\"dot11.device.min_tx_power\\\": 0, \\\"dot11.device.last_beacon_timestamp\\\": 1628191928, \\\"dot11.device.datasize_retry\\\": 0, \\\"dot11.device.last_sequence\\\": 0, \\\"dot11.device.num_client_aps\\\": 0, \\\"dot11.device.num_advertised_ssids\\\": 1, \\\"dot11.device.num_probed_ssids\\\": 0, \\\"dot11.device.responded_ssid_map\\\": [{\\\"dot11.advertisedssid.cisco_client_mfp\\\": 0, \\\"dot11.advertisedssid.ccx_txpower\\\": 0, \\\"dot11.advertisedssid.dot11e_channel_utilization_perc\\\": 0, \\\"dot11.advertisedssid.dot11e_qbss_stations\\\": 0, \\\"dot11.advertisedssid.dot11e_qbss\\\": 0, \\\"dot11.advertisedssid.dot11r_mobility_domain_id\\\": 0, \\\"dot11.advertisedssid.dot11r_mobility\\\": 0, \\\"dot11.advertisedssid.first_time\\\": 1628191915, \\\"dot11.advertisedssid.ht_center_2\\\": 0, \\\"dot11.advertisedssid.ht_center_1\\\": 0, \\\"dot11.advertisedssid.ht_mode\\\": \\\"\\\", \\\"dot11.advertisedssid.channel\\\": \\\"\\\", \\\"dot11.advertisedssid.probe_response\\\": 1, \\\"dot11.advertisedssid.beacon\\\": 0, \\\"dot11.advertisedssid.ssid_hash\\\": 2678865861, \\\"dot11.advertisedssid.wps_config_methods\\\": 0, \\\"dot11.advertisedssid.ssidlen\\\": 15, \\\"dot11.advertisedssid.wps_state\\\": 0, \\\"dot11.advertisedssid.ssid\\\": \\\"Caesars_Resorts\\\", \\\"dot11.advertisedssid.wps_version\\\": 0, \\\"dot11.advertisedssid.last_time\\\": 1628191923, \\\"dot11.advertisedssid.cloaked\\\": 0, \\\"dot11.advertisedssid.crypt_set\\\": 0, \\\"dot11.advertisedssid.maxrate\\\": 144.4, \\\"dot11.advertisedssid.beaconrate\\\": 0, \\\"dot11.advertisedssid.beacons_sec\\\": 0, \\\"dot11.advertisedssid.ietag_checksum\\\": 3144684292, \\\"dot11.advertisedssid.wpa_mfp_required\\\": 0, \\\"dot11.advertisedssid.wpa_mfp_supported\\\": 0}], \\\"dot11.device.advertised_ssid_map\\\": [{\\\"dot11.advertisedssid.cisco_client_mfp\\\": 0, \\\"dot11.advertisedssid.ccx_txpower\\\": 0, \\\"dot11.advertisedssid.dot11e_channel_utilization_perc\\\": 14.509804, \\\"dot11.advertisedssid.dot11e_qbss_stations\\\": 0, \\\"dot11.advertisedssid.dot11e_qbss\\\": 1, \\\"dot11.advertisedssid.dot11r_mobility_domain_id\\\": 0, \\\"dot11.advertisedssid.dot11r_mobility\\\": 0, \\\"dot11.advertisedssid.first_time\\\": 1628191914, \\\"dot11.advertisedssid.ht_center_2\\\": 0, \\\"dot11.advertisedssid.ht_center_1\\\": 0, \\\"dot11.advertisedssid.ht_mode\\\": \\\"HT20\\\", \\\"dot11.advertisedssid.channel\\\": \\\"1\\\", \\\"dot11.advertisedssid.probe_response\\\": 0, \\\"dot11.advertisedssid.beacon\\\": 1, \\\"dot11.advertisedssid.ssid_hash\\\": 2678865861, \\\"dot11.advertisedssid.wps_config_methods\\\": 0, \\\"dot11.advertisedssid.ssidlen\\\": 15, \\\"dot11.advertisedssid.wps_state\\\": 0, \\\"dot11.advertisedssid.ssid\\\": \\\"Caesars_Resorts\\\", \\\"dot11.advertisedssid.wps_version\\\": 0, \\\"dot11.advertisedssid.last_time\\\": 1628191928, \\\"dot11.advertisedssid.cloaked\\\": 0, \\\"dot11.advertisedssid.crypt_set\\\": 0, \\\"dot11.advertisedssid.maxrate\\\": 144.4, \\\"dot11.advertisedssid.beaconrate\\\": 10, \\\"dot11.advertisedssid.beacons_sec\\\": 13, \\\"dot11.advertisedssid.ietag_checksum\\\": 4119859977, \\\"dot11.advertisedssid.wpa_mfp_required\\\": 0, \\\"dot11.advertisedssid.wpa_mfp_supported\\\": 0, \\\"dot11.advertisedssid.dot11d_country\\\": \\\"\\\"}], \\\"dot11.device.num_associated_clients\\\": 0, \\\"dot11.device.wpa_present_handshake\\\": 0, \\\"dot11.device.client_disconnects\\\": 0, \\\"dot11.device.typeset\\\": 257, \\\"dot11.device.num_responded_ssids\\\": 1, \\\"dot11.device.client_disconnects_last\\\": 0, \\\"dot11.device.bss_timestamp\\\": 1968732813184, \\\"dot11.device.num_fragments\\\": 0, \\\"dot11.device.num_retries\\\": 0, \\\"dot11.device.datasize\\\": 0}, \\\"kismet.device.base.packets.rx\\\": 0, \\\"kismet.device.base.packets.tx\\\": 0, \\\"kismet.device.base.packets.llc\\\": 16, \\\"kismet.device.base.packets.error\\\": 0, \\\"kismet.device.base.packets.data\\\": 0, \\\"kismet.device.base.packets.crypt\\\": 0, \\\"kismet.device.base.packets.filtered\\\": 0, \\\"kismet.device.base.datasize\\\": 0, \\\"kismet.device.base.packets.rrd\\\": {\\\"kismet.common.rrd.blank_val\\\": 0, \\\"kismet.common.rrd.day_vec\\\": [0, 0, 0, 0, 0, 0, 0, 0, 0, 0, 0, 0, 0, 0, 0, 0, 0, 0, 0, 0, 0, 0, 0, 0], \\\"kismet.common.rrd.hour_vec\\\": [0, 0, 0, 0, 0, 0, 0, 0, 0, 0, 0, 0, 0, 0, 0, 0, 0, 0, 0, 0, 0, 0, 0, 0, 0, 0, 0, 0, 0, 0, 0, 0, 0, 0, 0, 0, 0, 0, 0, 0, 0, 0, 0, 0, 0, 0, 0, 0, 0, 0, 0, 0, 0, 0, 0, 0, 0, 0, 0, 0], \\\"kismet.common.rrd.minute_vec\\\": [1, 1, 0, 0, 3, 0, 0, 2, 0, 0, 3, 0, 0, 0, 0, 0, 0, 0, 0, 0, 0, 0, 0, 0, 0, 0, 0, 0, 0, 0, 0, 0, 0, 0, 0, 0, 0, 0, 0, 0, 0, 0, 0, 0, 0, 0, 0, 0, 0, 0, 0, 0, 0, 0, 0, 2, 0, 3, 1, 0], \\\"kismet.common.rrd.serial_time\\\": 1628191931, \\\"kismet.common.rrd.last_time\\\": 1628191931}}\",\n",
      "    \"1\": \"{\\\"kismet.device.base.type\\\": \\\"Wi-Fi AP\\\", \\\"kismet.device.base.manuf\\\": \\\"Extreme Networks Inc.\\\", \\\"kismet.server.uuid\\\": \\\"C37B599A-E400-11EB-B3D1-4B49534D4554\\\", \\\"kismet.device.base.seenby\\\": [{\\\"kismet.common.seenby.uuid\\\": \\\"5FE308BD-0000-0000-0000-9CEFD5FD12EE\\\", \\\"kismet.common.seenby.num_packets\\\": 3, \\\"kismet.common.seenby.last_time\\\": 1628191915, \\\"kismet.common.seenby.first_time\\\": 1628191915}, {\\\"kismet.common.seenby.uuid\\\": \\\"5FE308BD-0000-0000-0000-B827EBF1EF3F\\\", \\\"kismet.common.seenby.num_packets\\\": 14, \\\"kismet.common.seenby.last_time\\\": 1628191928, \\\"kismet.common.seenby.first_time\\\": 1628191914}], \\\"kismet.device.base.num_alerts\\\": 0, \\\"kismet.device.base.mod_time\\\": 1628191930, \\\"kismet.device.base.last_time\\\": 1628191928, \\\"kismet.device.base.first_time\\\": 1628191914, \\\"kismet.device.base.frequency\\\": 2412000, \\\"kismet.device.base.basic_crypt_set\\\": 2, \\\"kismet.device.base.channel\\\": \\\"1\\\", \\\"kismet.device.base.crypt\\\": \\\"WPA2-PSK\\\", \\\"kismet.device.base.freq_khz_map\\\": {\\\"2412000\\\": 17}, \\\"kismet.device.base.basic_type_set\\\": 1, \\\"kismet.device.base.signal\\\": {\\\"kismet.common.signal.signal_rrd\\\": {\\\"kismet.common.rrd.blank_val\\\": 0, \\\"kismet.common.rrd.minute_vec\\\": [-76, 0, 0, -78, 0, -74, -76, 0, -77, 0, 0, 0, 0, 0, 0, 0, 0, 0, 0, 0, 0, 0, 0, 0, 0, 0, 0, 0, 0, 0, 0, 0, 0, 0, 0, 0, 0, 0, 0, 0, 0, 0, 0, 0, 0, 0, 0, 0, 0, 0, 0, 0, 0, 0, -75, -68, 0, -75, 0, 0], \\\"kismet.common.rrd.serial_time\\\": 1628191931, \\\"kismet.common.rrd.last_time\\\": 1628191931}, \\\"kismet.common.signal.carrierset\\\": 4, \\\"kismet.common.signal.encodingset\\\": 3, \\\"kismet.common.signal.maxseenrate\\\": 60, \\\"kismet.common.signal.max_noise\\\": 0, \\\"kismet.common.signal.max_signal\\\": -66, \\\"kismet.common.signal.min_noise\\\": 0, \\\"kismet.common.signal.min_signal\\\": -78, \\\"kismet.common.signal.last_noise\\\": 0, \\\"kismet.common.signal.last_signal\\\": -77, \\\"kismet.common.signal.type\\\": \\\"dbm\\\"}, \\\"kismet.device.base.commonname\\\": \\\"ALPHA\\\", \\\"kismet.device.base.name\\\": \\\"ALPHA\\\", \\\"kismet.device.base.phyname\\\": \\\"IEEE802.11\\\", \\\"kismet.device.base.related_devices\\\": {\\\"dot11_bssts_similar\\\": [\\\"4202770D00000000_6062A7810AFC\\\"]}, \\\"kismet.device.base.macaddr\\\": \\\"FC:0A:81:A7:62:61\\\", \\\"kismet.device.base.key\\\": \\\"4202770D00000000_6162A7810AFC\\\", \\\"kismet.device.base.packets.total\\\": 17, \\\"dot11.device\\\": {\\\"dot11.device.last_beaconed_ssid_record\\\": {\\\"dot11.advertisedssid.cisco_client_mfp\\\": 0, \\\"dot11.advertisedssid.ccx_txpower\\\": 0, \\\"dot11.advertisedssid.dot11e_channel_utilization_perc\\\": 16.078431, \\\"dot11.advertisedssid.dot11e_qbss_stations\\\": 0, \\\"dot11.advertisedssid.dot11e_qbss\\\": 1, \\\"dot11.advertisedssid.dot11r_mobility_domain_id\\\": 0, \\\"dot11.advertisedssid.dot11r_mobility\\\": 0, \\\"dot11.advertisedssid.first_time\\\": 1628191914, \\\"dot11.advertisedssid.ht_center_2\\\": 0, \\\"dot11.advertisedssid.ht_center_1\\\": 0, \\\"dot11.advertisedssid.ht_mode\\\": \\\"HT20\\\", \\\"dot11.advertisedssid.channel\\\": \\\"1\\\", \\\"dot11.advertisedssid.probe_response\\\": 0, \\\"dot11.advertisedssid.beacon\\\": 1, \\\"dot11.advertisedssid.ssid_hash\\\": 3179317145, \\\"dot11.advertisedssid.wps_config_methods\\\": 0, \\\"dot11.advertisedssid.ssidlen\\\": 5, \\\"dot11.advertisedssid.wps_state\\\": 0, \\\"dot11.advertisedssid.ssid\\\": \\\"ALPHA\\\", \\\"dot11.advertisedssid.wps_version\\\": 0, \\\"dot11.advertisedssid.last_time\\\": 1628191928, \\\"dot11.advertisedssid.cloaked\\\": 0, \\\"dot11.advertisedssid.crypt_set\\\": 268436162, \\\"dot11.advertisedssid.maxrate\\\": 144.4, \\\"dot11.advertisedssid.beaconrate\\\": 10, \\\"dot11.advertisedssid.beacons_sec\\\": 13, \\\"dot11.advertisedssid.ietag_checksum\\\": 498733285, \\\"dot11.advertisedssid.wpa_mfp_required\\\": 0, \\\"dot11.advertisedssid.wpa_mfp_supported\\\": 0, \\\"dot11.advertisedssid.dot11d_country\\\": \\\"\\\"}, \\\"dot11.device.last_bssid\\\": \\\"FC:0A:81:A7:62:61\\\", \\\"dot11.device.response_fingerprint\\\": 0, \\\"dot11.device.probe_fingerprint\\\": 0, \\\"dot11.device.beacon_fingerprint\\\": 2421800394, \\\"dot11.device.neighbor_report_capable\\\": 0, \\\"dot11.device.link_measurement_capable\\\": 0, \\\"dot11.device.wps_m3_last\\\": 0, \\\"dot11.device.max_tx_power\\\": 0, \\\"dot11.device.wps_m3_count\\\": 0, \\\"dot11.device.min_tx_power\\\": 0, \\\"dot11.device.last_beacon_timestamp\\\": 1628191928, \\\"dot11.device.datasize_retry\\\": 0, \\\"dot11.device.last_sequence\\\": 0, \\\"dot11.device.num_client_aps\\\": 0, \\\"dot11.device.num_advertised_ssids\\\": 1, \\\"dot11.device.num_probed_ssids\\\": 0, \\\"dot11.device.responded_ssid_map\\\": [{\\\"dot11.advertisedssid.cisco_client_mfp\\\": 0, \\\"dot11.advertisedssid.ccx_txpower\\\": 0, \\\"dot11.advertisedssid.dot11e_channel_utilization_perc\\\": 0, \\\"dot11.advertisedssid.dot11e_qbss_stations\\\": 0, \\\"dot11.advertisedssid.dot11e_qbss\\\": 0, \\\"dot11.advertisedssid.dot11r_mobility_domain_id\\\": 0, \\\"dot11.advertisedssid.dot11r_mobility\\\": 0, \\\"dot11.advertisedssid.first_time\\\": 1628191915, \\\"dot11.advertisedssid.ht_center_2\\\": 0, \\\"dot11.advertisedssid.ht_center_1\\\": 0, \\\"dot11.advertisedssid.ht_mode\\\": \\\"\\\", \\\"dot11.advertisedssid.channel\\\": \\\"\\\", \\\"dot11.advertisedssid.probe_response\\\": 1, \\\"dot11.advertisedssid.beacon\\\": 0, \\\"dot11.advertisedssid.ssid_hash\\\": 3179317145, \\\"dot11.advertisedssid.wps_config_methods\\\": 0, \\\"dot11.advertisedssid.ssidlen\\\": 5, \\\"dot11.advertisedssid.wps_state\\\": 0, \\\"dot11.advertisedssid.ssid\\\": \\\"ALPHA\\\", \\\"dot11.advertisedssid.wps_version\\\": 0, \\\"dot11.advertisedssid.last_time\\\": 1628191923, \\\"dot11.advertisedssid.cloaked\\\": 0, \\\"dot11.advertisedssid.crypt_set\\\": 268436162, \\\"dot11.advertisedssid.maxrate\\\": 144.4, \\\"dot11.advertisedssid.beaconrate\\\": 0, \\\"dot11.advertisedssid.beacons_sec\\\": 0, \\\"dot11.advertisedssid.ietag_checksum\\\": 4245295323, \\\"dot11.advertisedssid.wpa_mfp_required\\\": 0, \\\"dot11.advertisedssid.wpa_mfp_supported\\\": 0}], \\\"dot11.device.advertised_ssid_map\\\": [{\\\"dot11.advertisedssid.cisco_client_mfp\\\": 0, \\\"dot11.advertisedssid.ccx_txpower\\\": 0, \\\"dot11.advertisedssid.dot11e_channel_utilization_perc\\\": 16.078431, \\\"dot11.advertisedssid.dot11e_qbss_stations\\\": 0, \\\"dot11.advertisedssid.dot11e_qbss\\\": 1, \\\"dot11.advertisedssid.dot11r_mobility_domain_id\\\": 0, \\\"dot11.advertisedssid.dot11r_mobility\\\": 0, \\\"dot11.advertisedssid.first_time\\\": 1628191914, \\\"dot11.advertisedssid.ht_center_2\\\": 0, \\\"dot11.advertisedssid.ht_center_1\\\": 0, \\\"dot11.advertisedssid.ht_mode\\\": \\\"HT20\\\", \\\"dot11.advertisedssid.channel\\\": \\\"1\\\", \\\"dot11.advertisedssid.probe_response\\\": 0, \\\"dot11.advertisedssid.beacon\\\": 1, \\\"dot11.advertisedssid.ssid_hash\\\": 3179317145, \\\"dot11.advertisedssid.wps_config_methods\\\": 0, \\\"dot11.advertisedssid.ssidlen\\\": 5, \\\"dot11.advertisedssid.wps_state\\\": 0, \\\"dot11.advertisedssid.ssid\\\": \\\"ALPHA\\\", \\\"dot11.advertisedssid.wps_version\\\": 0, \\\"dot11.advertisedssid.last_time\\\": 1628191928, \\\"dot11.advertisedssid.cloaked\\\": 0, \\\"dot11.advertisedssid.crypt_set\\\": 268436162, \\\"dot11.advertisedssid.maxrate\\\": 144.4, \\\"dot11.advertisedssid.beaconrate\\\": 10, \\\"dot11.advertisedssid.beacons_sec\\\": 13, \\\"dot11.advertisedssid.ietag_checksum\\\": 498733285, \\\"dot11.advertisedssid.wpa_mfp_required\\\": 0, \\\"dot11.advertisedssid.wpa_mfp_supported\\\": 0, \\\"dot11.advertisedssid.dot11d_country\\\": \\\"\\\"}], \\\"dot11.device.num_associated_clients\\\": 0, \\\"dot11.device.wpa_present_handshake\\\": 0, \\\"dot11.device.client_disconnects\\\": 0, \\\"dot11.device.typeset\\\": 257, \\\"dot11.device.num_responded_ssids\\\": 1, \\\"dot11.device.client_disconnects_last\\\": 0, \\\"dot11.device.bss_timestamp\\\": 1968732838784, \\\"dot11.device.num_fragments\\\": 0, \\\"dot11.device.num_retries\\\": 0, \\\"dot11.device.datasize\\\": 0}, \\\"kismet.device.base.packets.rx\\\": 0, \\\"kismet.device.base.packets.tx\\\": 0, \\\"kismet.device.base.packets.llc\\\": 17, \\\"kismet.device.base.packets.error\\\": 0, \\\"kismet.device.base.packets.data\\\": 0, \\\"kismet.device.base.packets.crypt\\\": 0, \\\"kismet.device.base.packets.filtered\\\": 0, \\\"kismet.device.base.datasize\\\": 0, \\\"kismet.device.base.packets.rrd\\\": {\\\"kismet.common.rrd.blank_val\\\": 0, \\\"kismet.common.rrd.day_vec\\\": [0, 0, 0, 0, 0, 0, 0, 0, 0, 0, 0, 0, 0, 0, 0, 0, 0, 0, 0, 0, 0, 0, 0, 0], \\\"kismet.common.rrd.hour_vec\\\": [0, 0, 0, 0, 0, 0, 0, 0, 0, 0, 0, 0, 0, 0, 0, 0, 0, 0, 0, 0, 0, 0, 0, 0, 0, 0, 0, 0, 0, 0, 0, 0, 0, 0, 0, 0, 0, 0, 0, 0, 0, 0, 0, 0, 0, 0, 0, 0, 0, 0, 0, 0, 0, 0, 0, 0, 0, 0, 0, 0], \\\"kismet.common.rrd.minute_vec\\\": [1, 1, 0, 0, 3, 0, 0, 2, 0, 0, 3, 0, 0, 0, 0, 0, 0, 0, 0, 0, 0, 0, 0, 0, 0, 0, 0, 0, 0, 0, 0, 0, 0, 0, 0, 0, 0, 0, 0, 0, 0, 0, 0, 0, 0, 0, 0, 0, 0, 0, 0, 0, 0, 0, 0, 2, 0, 4, 1, 0], \\\"kismet.common.rrd.serial_time\\\": 1628191931, \\\"kismet.common.rrd.last_time\\\": 1628191931}}\",\n",
      "    \"2\": \"{\\\"kismet.device.base.type\\\": \\\"Wi-Fi AP\\\", \\\"kismet.device.base.manuf\\\": \\\"Zebra Technologies Inc\\\", \\\"kismet.server.uuid\\\": \\\"C37B599A-E400-11EB-B3D1-4B49534D4554\\\", \\\"kismet.device.base.seenby\\\": [{\\\"kismet.common.seenby.uuid\\\": \\\"5FE308BD-0000-0000-0000-9CEFD5FD12EE\\\", \\\"kismet.common.seenby.num_packets\\\": 5, \\\"kismet.common.seenby.last_time\\\": 1628191915, \\\"kismet.common.seenby.first_time\\\": 1628191915}, {\\\"kismet.common.seenby.uuid\\\": \\\"5FE308BD-0000-0000-0000-B827EBF1EF3F\\\", \\\"kismet.common.seenby.num_packets\\\": 17, \\\"kismet.common.seenby.last_time\\\": 1628191928, \\\"kismet.common.seenby.first_time\\\": 1628191914}], \\\"kismet.device.base.num_alerts\\\": 0, \\\"kismet.device.base.mod_time\\\": 1628191930, \\\"kismet.device.base.last_time\\\": 1628191928, \\\"kismet.device.base.first_time\\\": 1628191914, \\\"kismet.device.base.frequency\\\": 2412000, \\\"kismet.device.base.basic_crypt_set\\\": 2, \\\"kismet.device.base.channel\\\": \\\"1\\\", \\\"kismet.device.base.crypt\\\": \\\"WPA2-PSK\\\", \\\"kismet.device.base.freq_khz_map\\\": {\\\"2417000\\\": 2, \\\"2412000\\\": 20}, \\\"kismet.device.base.basic_type_set\\\": 1, \\\"kismet.device.base.signal\\\": {\\\"kismet.common.signal.signal_rrd\\\": {\\\"kismet.common.rrd.blank_val\\\": 0, \\\"kismet.common.rrd.minute_vec\\\": [-85, 0, 0, -84, 0, -86, -82, 0, -86, 0, 0, 0, 0, 0, 0, 0, 0, 0, 0, 0, 0, 0, 0, 0, 0, 0, 0, 0, 0, 0, 0, 0, 0, 0, 0, 0, 0, 0, 0, 0, 0, 0, 0, 0, 0, 0, 0, 0, 0, 0, 0, 0, 0, 0, 0, -80, 0, 0, -82, 0], \\\"kismet.common.rrd.serial_time\\\": 1628191931, \\\"kismet.common.rrd.last_time\\\": 1628191931}, \\\"kismet.common.signal.carrierset\\\": 5, \\\"kismet.common.signal.encodingset\\\": 3, \\\"kismet.common.signal.maxseenrate\\\": 60, \\\"kismet.common.signal.max_noise\\\": 0, \\\"kismet.common.signal.max_signal\\\": -76, \\\"kismet.common.signal.min_noise\\\": 0, \\\"kismet.common.signal.min_signal\\\": -86, \\\"kismet.common.signal.last_noise\\\": 0, \\\"kismet.common.signal.last_signal\\\": -86, \\\"kismet.common.signal.type\\\": \\\"dbm\\\"}, \\\"kismet.device.base.commonname\\\": \\\"ALPHA\\\", \\\"kismet.device.base.name\\\": \\\"ALPHA\\\", \\\"kismet.device.base.phyname\\\": \\\"IEEE802.11\\\", \\\"kismet.device.base.related_devices\\\": {\\\"dot11_bssts_similar\\\": [\\\"4202770D00000000_204E678D2484\\\", \\\"4202770D00000000_224E678D2484\\\"]}, \\\"kismet.device.base.macaddr\\\": \\\"84:24:8D:67:4E:21\\\", \\\"kismet.device.base.key\\\": \\\"4202770D00000000_214E678D2484\\\", \\\"kismet.device.base.packets.total\\\": 22, \\\"dot11.device\\\": {\\\"dot11.device.last_beaconed_ssid_record\\\": {\\\"dot11.advertisedssid.cisco_client_mfp\\\": 0, \\\"dot11.advertisedssid.ccx_txpower\\\": 0, \\\"dot11.advertisedssid.dot11e_channel_utilization_perc\\\": 24.705882, \\\"dot11.advertisedssid.dot11e_qbss_stations\\\": 31, \\\"dot11.advertisedssid.dot11e_qbss\\\": 1, \\\"dot11.advertisedssid.dot11r_mobility_domain_id\\\": 0, \\\"dot11.advertisedssid.dot11r_mobility\\\": 0, \\\"dot11.advertisedssid.first_time\\\": 1628191914, \\\"dot11.advertisedssid.ht_center_2\\\": 0, \\\"dot11.advertisedssid.ht_center_1\\\": 0, \\\"dot11.advertisedssid.ht_mode\\\": \\\"HT20\\\", \\\"dot11.advertisedssid.channel\\\": \\\"1\\\", \\\"dot11.advertisedssid.probe_response\\\": 0, \\\"dot11.advertisedssid.beacon\\\": 1, \\\"dot11.advertisedssid.ssid_hash\\\": 3179317145, \\\"dot11.advertisedssid.wps_config_methods\\\": 0, \\\"dot11.advertisedssid.ssidlen\\\": 5, \\\"dot11.advertisedssid.wps_state\\\": 0, \\\"dot11.advertisedssid.ssid\\\": \\\"ALPHA\\\", \\\"dot11.advertisedssid.wps_version\\\": 0, \\\"dot11.advertisedssid.last_time\\\": 1628191928, \\\"dot11.advertisedssid.cloaked\\\": 0, \\\"dot11.advertisedssid.crypt_set\\\": 268436162, \\\"dot11.advertisedssid.maxrate\\\": 144.4, \\\"dot11.advertisedssid.beaconrate\\\": 10, \\\"dot11.advertisedssid.beacons_sec\\\": 6, \\\"dot11.advertisedssid.ietag_checksum\\\": 855382658, \\\"dot11.advertisedssid.wpa_mfp_required\\\": 0, \\\"dot11.advertisedssid.wpa_mfp_supported\\\": 0, \\\"dot11.advertisedssid.dot11d_country\\\": \\\"US\\\"}, \\\"dot11.device.last_bssid\\\": \\\"84:24:8D:67:4E:21\\\", \\\"dot11.device.response_fingerprint\\\": 0, \\\"dot11.device.probe_fingerprint\\\": 0, \\\"dot11.device.beacon_fingerprint\\\": 2665338153, \\\"dot11.device.neighbor_report_capable\\\": 0, \\\"dot11.device.link_measurement_capable\\\": 0, \\\"dot11.device.wps_m3_last\\\": 0, \\\"dot11.device.max_tx_power\\\": 0, \\\"dot11.device.wps_m3_count\\\": 0, \\\"dot11.device.min_tx_power\\\": 0, \\\"dot11.device.last_beacon_timestamp\\\": 1628191928, \\\"dot11.device.datasize_retry\\\": 0, \\\"dot11.device.last_sequence\\\": 0, \\\"dot11.device.num_client_aps\\\": 0, \\\"dot11.device.num_advertised_ssids\\\": 1, \\\"dot11.device.num_probed_ssids\\\": 0, \\\"dot11.device.responded_ssid_map\\\": [{\\\"dot11.advertisedssid.cisco_client_mfp\\\": 0, \\\"dot11.advertisedssid.ccx_txpower\\\": 0, \\\"dot11.advertisedssid.dot11e_channel_utilization_perc\\\": 0, \\\"dot11.advertisedssid.dot11e_qbss_stations\\\": 0, \\\"dot11.advertisedssid.dot11e_qbss\\\": 0, \\\"dot11.advertisedssid.dot11r_mobility_domain_id\\\": 0, \\\"dot11.advertisedssid.dot11r_mobility\\\": 0, \\\"dot11.advertisedssid.first_time\\\": 1628191915, \\\"dot11.advertisedssid.ht_center_2\\\": 0, \\\"dot11.advertisedssid.ht_center_1\\\": 0, \\\"dot11.advertisedssid.ht_mode\\\": \\\"\\\", \\\"dot11.advertisedssid.channel\\\": \\\"\\\", \\\"dot11.advertisedssid.probe_response\\\": 1, \\\"dot11.advertisedssid.beacon\\\": 0, \\\"dot11.advertisedssid.ssid_hash\\\": 3179317145, \\\"dot11.advertisedssid.wps_config_methods\\\": 0, \\\"dot11.advertisedssid.ssidlen\\\": 5, \\\"dot11.advertisedssid.wps_state\\\": 0, \\\"dot11.advertisedssid.ssid\\\": \\\"ALPHA\\\", \\\"dot11.advertisedssid.wps_version\\\": 0, \\\"dot11.advertisedssid.last_time\\\": 1628191928, \\\"dot11.advertisedssid.cloaked\\\": 0, \\\"dot11.advertisedssid.crypt_set\\\": 268436162, \\\"dot11.advertisedssid.maxrate\\\": 144.4, \\\"dot11.advertisedssid.beaconrate\\\": 0, \\\"dot11.advertisedssid.beacons_sec\\\": 0, \\\"dot11.advertisedssid.ietag_checksum\\\": 3793755553, \\\"dot11.advertisedssid.wpa_mfp_required\\\": 0, \\\"dot11.advertisedssid.wpa_mfp_supported\\\": 0}], \\\"dot11.device.advertised_ssid_map\\\": [{\\\"dot11.advertisedssid.cisco_client_mfp\\\": 0, \\\"dot11.advertisedssid.ccx_txpower\\\": 0, \\\"dot11.advertisedssid.dot11e_channel_utilization_perc\\\": 24.705882, \\\"dot11.advertisedssid.dot11e_qbss_stations\\\": 31, \\\"dot11.advertisedssid.dot11e_qbss\\\": 1, \\\"dot11.advertisedssid.dot11r_mobility_domain_id\\\": 0, \\\"dot11.advertisedssid.dot11r_mobility\\\": 0, \\\"dot11.advertisedssid.first_time\\\": 1628191914, \\\"dot11.advertisedssid.ht_center_2\\\": 0, \\\"dot11.advertisedssid.ht_center_1\\\": 0, \\\"dot11.advertisedssid.ht_mode\\\": \\\"HT20\\\", \\\"dot11.advertisedssid.channel\\\": \\\"1\\\", \\\"dot11.advertisedssid.probe_response\\\": 0, \\\"dot11.advertisedssid.beacon\\\": 1, \\\"dot11.advertisedssid.ssid_hash\\\": 3179317145, \\\"dot11.advertisedssid.wps_config_methods\\\": 0, \\\"dot11.advertisedssid.ssidlen\\\": 5, \\\"dot11.advertisedssid.wps_state\\\": 0, \\\"dot11.advertisedssid.ssid\\\": \\\"ALPHA\\\", \\\"dot11.advertisedssid.wps_version\\\": 0, \\\"dot11.advertisedssid.last_time\\\": 1628191928, \\\"dot11.advertisedssid.cloaked\\\": 0, \\\"dot11.advertisedssid.crypt_set\\\": 268436162, \\\"dot11.advertisedssid.maxrate\\\": 144.4, \\\"dot11.advertisedssid.beaconrate\\\": 10, \\\"dot11.advertisedssid.beacons_sec\\\": 6, \\\"dot11.advertisedssid.ietag_checksum\\\": 855382658, \\\"dot11.advertisedssid.wpa_mfp_required\\\": 0, \\\"dot11.advertisedssid.wpa_mfp_supported\\\": 0, \\\"dot11.advertisedssid.dot11d_country\\\": \\\"US\\\"}], \\\"dot11.device.num_associated_clients\\\": 0, \\\"dot11.device.wpa_present_handshake\\\": 0, \\\"dot11.device.client_disconnects\\\": 0, \\\"dot11.device.typeset\\\": 257, \\\"dot11.device.num_responded_ssids\\\": 1, \\\"dot11.device.client_disconnects_last\\\": 0, \\\"dot11.device.bss_timestamp\\\": 674518016384, \\\"dot11.device.num_fragments\\\": 0, \\\"dot11.device.num_retries\\\": 0, \\\"dot11.device.datasize\\\": 0}, \\\"kismet.device.base.packets.rx\\\": 0, \\\"kismet.device.base.packets.tx\\\": 0, \\\"kismet.device.base.packets.llc\\\": 22, \\\"kismet.device.base.packets.error\\\": 0, \\\"kismet.device.base.packets.data\\\": 0, \\\"kismet.device.base.packets.crypt\\\": 0, \\\"kismet.device.base.packets.filtered\\\": 0, \\\"kismet.device.base.datasize\\\": 0, \\\"kismet.device.base.packets.rrd\\\": {\\\"kismet.common.rrd.blank_val\\\": 0, \\\"kismet.common.rrd.day_vec\\\": [0, 0, 0, 0, 0, 0, 0, 0, 0, 0, 0, 0, 0, 0, 0, 0, 0, 0, 0, 0, 0, 0, 0, 0], \\\"kismet.common.rrd.hour_vec\\\": [0, 0, 0, 0, 0, 0, 0, 0, 0, 0, 0, 0, 0, 0, 0, 0, 0, 0, 0, 0, 0, 0, 0, 0, 0, 0, 0, 0, 0, 0, 0, 0, 0, 0, 0, 0, 0, 0, 0, 0, 0, 0, 0, 0, 0, 0, 0, 0, 0, 0, 0, 0, 0, 0, 0, 0, 0, 0, 0, 0], \\\"kismet.common.rrd.minute_vec\\\": [0, 1, 0, 0, 1, 0, 0, 9, 0, 0, 3, 0, 0, 0, 0, 0, 0, 0, 0, 0, 0, 0, 0, 0, 0, 0, 0, 0, 0, 0, 0, 0, 0, 0, 0, 0, 0, 0, 0, 0, 0, 0, 0, 0, 0, 0, 0, 0, 0, 0, 0, 0, 0, 0, 0, 1, 1, 5, 1, 0], \\\"kismet.common.rrd.serial_time\\\": 1628191931, \\\"kismet.common.rrd.last_time\\\": 1628191931}}\",\n",
      "    \"3\": \"{\\\"kismet.device.base.type\\\": \\\"Wi-Fi AP\\\", \\\"kismet.device.base.manuf\\\": \\\"Zebra Technologies Inc\\\", \\\"kismet.server.uuid\\\": \\\"C37B599A-E400-11EB-B3D1-4B49534D4554\\\", \\\"kismet.device.base.seenby\\\": [{\\\"kismet.common.seenby.uuid\\\": \\\"5FE308BD-0000-0000-0000-9CEFD5FD12EE\\\", \\\"kismet.common.seenby.num_packets\\\": 1, \\\"kismet.common.seenby.last_time\\\": 1628191915, \\\"kismet.common.seenby.first_time\\\": 1628191915}, {\\\"kismet.common.seenby.uuid\\\": \\\"5FE308BD-0000-0000-0000-B827EBF1EF3F\\\", \\\"kismet.common.seenby.num_packets\\\": 7, \\\"kismet.common.seenby.last_time\\\": 1628191925, \\\"kismet.common.seenby.first_time\\\": 1628191914}], \\\"kismet.device.base.num_alerts\\\": 0, \\\"kismet.device.base.mod_time\\\": 1628191927, \\\"kismet.device.base.last_time\\\": 1628191925, \\\"kismet.device.base.first_time\\\": 1628191914, \\\"kismet.device.base.frequency\\\": 2412000, \\\"kismet.device.base.basic_crypt_set\\\": 2, \\\"kismet.device.base.channel\\\": \\\"1\\\", \\\"kismet.device.base.crypt\\\": \\\"WPA2-PSK\\\", \\\"kismet.device.base.freq_khz_map\\\": {\\\"2412000\\\": 8}, \\\"kismet.device.base.basic_type_set\\\": 1, \\\"kismet.device.base.signal\\\": {\\\"kismet.common.signal.signal_rrd\\\": {\\\"kismet.common.rrd.blank_val\\\": 0, \\\"kismet.common.rrd.minute_vec\\\": [-85, 0, 0, -84, 0, -88, 0, 0, 0, 0, 0, 0, 0, 0, 0, 0, 0, 0, 0, 0, 0, 0, 0, 0, 0, 0, 0, 0, 0, 0, 0, 0, 0, 0, 0, 0, 0, 0, 0, 0, 0, 0, 0, 0, 0, 0, 0, 0, 0, 0, 0, 0, 0, 0, -88, -78, 0, 0, 0, 0], \\\"kismet.common.rrd.serial_time\\\": 1628191931, \\\"kismet.common.rrd.last_time\\\": 1628191931}, \\\"kismet.common.signal.carrierset\\\": 4, \\\"kismet.common.signal.encodingset\\\": 3, \\\"kismet.common.signal.maxseenrate\\\": 60, \\\"kismet.common.signal.max_noise\\\": 0, \\\"kismet.common.signal.max_signal\\\": -78, \\\"kismet.common.signal.min_noise\\\": 0, \\\"kismet.common.signal.min_signal\\\": -88, \\\"kismet.common.signal.last_noise\\\": 0, \\\"kismet.common.signal.last_signal\\\": -88, \\\"kismet.common.signal.type\\\": \\\"dbm\\\"}, \\\"kismet.device.base.commonname\\\": \\\"BETA\\\", \\\"kismet.device.base.name\\\": \\\"BETA\\\", \\\"kismet.device.base.phyname\\\": \\\"IEEE802.11\\\", \\\"kismet.device.base.related_devices\\\": {\\\"dot11_bssts_similar\\\": [\\\"4202770D00000000_204E678D2484\\\", \\\"4202770D00000000_214E678D2484\\\"]}, \\\"kismet.device.base.macaddr\\\": \\\"84:24:8D:67:4E:22\\\", \\\"kismet.device.base.key\\\": \\\"4202770D00000000_224E678D2484\\\", \\\"kismet.device.base.packets.total\\\": 8, \\\"dot11.device\\\": {\\\"dot11.device.last_beaconed_ssid_record\\\": {\\\"dot11.advertisedssid.cisco_client_mfp\\\": 0, \\\"dot11.advertisedssid.ccx_txpower\\\": 0, \\\"dot11.advertisedssid.dot11e_channel_utilization_perc\\\": 24.705882, \\\"dot11.advertisedssid.dot11e_qbss_stations\\\": 31, \\\"dot11.advertisedssid.dot11e_qbss\\\": 1, \\\"dot11.advertisedssid.dot11r_mobility_domain_id\\\": 0, \\\"dot11.advertisedssid.dot11r_mobility\\\": 0, \\\"dot11.advertisedssid.first_time\\\": 1628191914, \\\"dot11.advertisedssid.ht_center_2\\\": 0, \\\"dot11.advertisedssid.ht_center_1\\\": 0, \\\"dot11.advertisedssid.ht_mode\\\": \\\"HT20\\\", \\\"dot11.advertisedssid.channel\\\": \\\"1\\\", \\\"dot11.advertisedssid.probe_response\\\": 0, \\\"dot11.advertisedssid.beacon\\\": 1, \\\"dot11.advertisedssid.ssid_hash\\\": 1040977504, \\\"dot11.advertisedssid.wps_config_methods\\\": 0, \\\"dot11.advertisedssid.ssidlen\\\": 4, \\\"dot11.advertisedssid.wps_state\\\": 0, \\\"dot11.advertisedssid.ssid\\\": \\\"BETA\\\", \\\"dot11.advertisedssid.wps_version\\\": 0, \\\"dot11.advertisedssid.last_time\\\": 1628191925, \\\"dot11.advertisedssid.cloaked\\\": 0, \\\"dot11.advertisedssid.crypt_set\\\": 268436162, \\\"dot11.advertisedssid.maxrate\\\": 144.4, \\\"dot11.advertisedssid.beaconrate\\\": 10, \\\"dot11.advertisedssid.beacons_sec\\\": 8, \\\"dot11.advertisedssid.ietag_checksum\\\": 4184545846, \\\"dot11.advertisedssid.wpa_mfp_required\\\": 0, \\\"dot11.advertisedssid.wpa_mfp_supported\\\": 0, \\\"dot11.advertisedssid.dot11d_country\\\": \\\"US\\\"}, \\\"dot11.device.last_bssid\\\": \\\"84:24:8D:67:4E:22\\\", \\\"dot11.device.response_fingerprint\\\": 0, \\\"dot11.device.probe_fingerprint\\\": 0, \\\"dot11.device.beacon_fingerprint\\\": 797379042, \\\"dot11.device.neighbor_report_capable\\\": 0, \\\"dot11.device.link_measurement_capable\\\": 0, \\\"dot11.device.wps_m3_last\\\": 0, \\\"dot11.device.max_tx_power\\\": 0, \\\"dot11.device.wps_m3_count\\\": 0, \\\"dot11.device.min_tx_power\\\": 0, \\\"dot11.device.last_beacon_timestamp\\\": 1628191925, \\\"dot11.device.datasize_retry\\\": 0, \\\"dot11.device.last_sequence\\\": 0, \\\"dot11.device.num_client_aps\\\": 0, \\\"dot11.device.num_advertised_ssids\\\": 1, \\\"dot11.device.num_probed_ssids\\\": 0, \\\"dot11.device.advertised_ssid_map\\\": [{\\\"dot11.advertisedssid.cisco_client_mfp\\\": 0, \\\"dot11.advertisedssid.ccx_txpower\\\": 0, \\\"dot11.advertisedssid.dot11e_channel_utilization_perc\\\": 24.705882, \\\"dot11.advertisedssid.dot11e_qbss_stations\\\": 31, \\\"dot11.advertisedssid.dot11e_qbss\\\": 1, \\\"dot11.advertisedssid.dot11r_mobility_domain_id\\\": 0, \\\"dot11.advertisedssid.dot11r_mobility\\\": 0, \\\"dot11.advertisedssid.first_time\\\": 1628191914, \\\"dot11.advertisedssid.ht_center_2\\\": 0, \\\"dot11.advertisedssid.ht_center_1\\\": 0, \\\"dot11.advertisedssid.ht_mode\\\": \\\"HT20\\\", \\\"dot11.advertisedssid.channel\\\": \\\"1\\\", \\\"dot11.advertisedssid.probe_response\\\": 0, \\\"dot11.advertisedssid.beacon\\\": 1, \\\"dot11.advertisedssid.ssid_hash\\\": 1040977504, \\\"dot11.advertisedssid.wps_config_methods\\\": 0, \\\"dot11.advertisedssid.ssidlen\\\": 4, \\\"dot11.advertisedssid.wps_state\\\": 0, \\\"dot11.advertisedssid.ssid\\\": \\\"BETA\\\", \\\"dot11.advertisedssid.wps_version\\\": 0, \\\"dot11.advertisedssid.last_time\\\": 1628191925, \\\"dot11.advertisedssid.cloaked\\\": 0, \\\"dot11.advertisedssid.crypt_set\\\": 268436162, \\\"dot11.advertisedssid.maxrate\\\": 144.4, \\\"dot11.advertisedssid.beaconrate\\\": 10, \\\"dot11.advertisedssid.beacons_sec\\\": 8, \\\"dot11.advertisedssid.ietag_checksum\\\": 4184545846, \\\"dot11.advertisedssid.wpa_mfp_required\\\": 0, \\\"dot11.advertisedssid.wpa_mfp_supported\\\": 0, \\\"dot11.advertisedssid.dot11d_country\\\": \\\"US\\\"}], \\\"dot11.device.num_associated_clients\\\": 0, \\\"dot11.device.wpa_present_handshake\\\": 0, \\\"dot11.device.client_disconnects\\\": 0, \\\"dot11.device.typeset\\\": 1, \\\"dot11.device.num_responded_ssids\\\": 0, \\\"dot11.device.client_disconnects_last\\\": 0, \\\"dot11.device.bss_timestamp\\\": 674515046784, \\\"dot11.device.num_fragments\\\": 0, \\\"dot11.device.num_retries\\\": 0, \\\"dot11.device.datasize\\\": 0}, \\\"kismet.device.base.packets.rx\\\": 0, \\\"kismet.device.base.packets.tx\\\": 0, \\\"kismet.device.base.packets.llc\\\": 8, \\\"kismet.device.base.packets.error\\\": 0, \\\"kismet.device.base.packets.data\\\": 0, \\\"kismet.device.base.packets.crypt\\\": 0, \\\"kismet.device.base.packets.filtered\\\": 0, \\\"kismet.device.base.datasize\\\": 0, \\\"kismet.device.base.packets.rrd\\\": {\\\"kismet.common.rrd.blank_val\\\": 0, \\\"kismet.common.rrd.day_vec\\\": [0, 0, 0, 0, 0, 0, 0, 0, 0, 0, 0, 0, 0, 0, 0, 0, 0, 0, 0, 0, 0, 0, 0, 0], \\\"kismet.common.rrd.hour_vec\\\": [0, 0, 0, 0, 0, 0, 0, 0, 0, 0, 0, 0, 0, 0, 0, 0, 0, 0, 0, 0, 0, 0, 0, 0, 0, 0, 0, 0, 0, 0, 0, 0, 0, 0, 0, 0, 0, 0, 0, 0, 0, 0, 0, 0, 0, 0, 0, 0, 0, 0, 0, 0, 0, 0, 0, 0, 0, 0, 0, 0], \\\"kismet.common.rrd.minute_vec\\\": [1, 1, 0, 0, 1, 0, 0, 2, 0, 0, 0, 0, 0, 0, 0, 0, 0, 0, 0, 0, 0, 0, 0, 0, 0, 0, 0, 0, 0, 0, 0, 0, 0, 0, 0, 0, 0, 0, 0, 0, 0, 0, 0, 0, 0, 0, 0, 0, 0, 0, 0, 0, 0, 0, 0, 2, 0, 1, 0, 0], \\\"kismet.common.rrd.serial_time\\\": 1628191931, \\\"kismet.common.rrd.last_time\\\": 1628191931}}\",\n",
      "    \"4\": \"{\\\"kismet.device.base.type\\\": \\\"Wi-Fi AP\\\", \\\"kismet.device.base.manuf\\\": \\\"Zebra Technologies Inc\\\", \\\"kismet.server.uuid\\\": \\\"C37B599A-E400-11EB-B3D1-4B49534D4554\\\", \\\"kismet.device.base.seenby\\\": [{\\\"kismet.common.seenby.uuid\\\": \\\"5FE308BD-0000-0000-0000-B827EBF1EF3F\\\", \\\"kismet.common.seenby.num_packets\\\": 2, \\\"kismet.common.seenby.last_time\\\": 1628191917, \\\"kismet.common.seenby.first_time\\\": 1628191914}], \\\"kismet.device.base.num_alerts\\\": 0, \\\"kismet.device.base.mod_time\\\": 1628191917, \\\"kismet.device.base.last_time\\\": 1628191917, \\\"kismet.device.base.first_time\\\": 1628191914, \\\"kismet.device.base.frequency\\\": 2412000, \\\"kismet.device.base.basic_crypt_set\\\": 2, \\\"kismet.device.base.channel\\\": \\\"1\\\", \\\"kismet.device.base.crypt\\\": \\\"WPA2-PSK\\\", \\\"kismet.device.base.freq_khz_map\\\": {\\\"2412000\\\": 2}, \\\"kismet.device.base.basic_type_set\\\": 1, \\\"kismet.device.base.signal\\\": {\\\"kismet.common.signal.signal_rrd\\\": {\\\"kismet.common.rrd.blank_val\\\": 0, \\\"kismet.common.rrd.minute_vec\\\": [0, 0, 0, 0, 0, 0, 0, 0, 0, 0, 0, 0, 0, 0, 0, 0, 0, 0, 0, 0, 0, 0, 0, 0, 0, 0, 0, 0, 0, 0, 0, 0, 0, 0, 0, 0, 0, 0, 0, 0, 0, 0, 0, 0, 0, 0, 0, 0, 0, 0, 0, 0, 0, 0, 0, 0, 0, -92, 0, 0], \\\"kismet.common.rrd.serial_time\\\": 1628191931, \\\"kismet.common.rrd.last_time\\\": 1628191931}, \\\"kismet.common.signal.carrierset\\\": 0, \\\"kismet.common.signal.encodingset\\\": 0, \\\"kismet.common.signal.maxseenrate\\\": 0, \\\"kismet.common.signal.max_noise\\\": 0, \\\"kismet.common.signal.max_signal\\\": -88, \\\"kismet.common.signal.min_noise\\\": 0, \\\"kismet.common.signal.min_signal\\\": -92, \\\"kismet.common.signal.last_noise\\\": 0, \\\"kismet.common.signal.last_signal\\\": -92, \\\"kismet.common.signal.type\\\": \\\"dbm\\\"}, \\\"kismet.device.base.commonname\\\": \\\"ALPHA\\\", \\\"kismet.device.base.name\\\": \\\"ALPHA\\\", \\\"kismet.device.base.phyname\\\": \\\"IEEE802.11\\\", \\\"kismet.device.base.related_devices\\\": {}, \\\"kismet.device.base.macaddr\\\": \\\"84:24:8D:65:31:A1\\\", \\\"kismet.device.base.key\\\": \\\"4202770D00000000_A131658D2484\\\", \\\"kismet.device.base.packets.total\\\": 2, \\\"dot11.device\\\": {\\\"dot11.device.last_beaconed_ssid_record\\\": {\\\"dot11.advertisedssid.cisco_client_mfp\\\": 0, \\\"dot11.advertisedssid.ccx_txpower\\\": 0, \\\"dot11.advertisedssid.dot11e_channel_utilization_perc\\\": 0, \\\"dot11.advertisedssid.dot11e_qbss_stations\\\": 0, \\\"dot11.advertisedssid.dot11e_qbss\\\": 0, \\\"dot11.advertisedssid.dot11r_mobility_domain_id\\\": 0, \\\"dot11.advertisedssid.dot11r_mobility\\\": 0, \\\"dot11.advertisedssid.first_time\\\": 1628191914, \\\"dot11.advertisedssid.ht_center_2\\\": 0, \\\"dot11.advertisedssid.ht_center_1\\\": 0, \\\"dot11.advertisedssid.ht_mode\\\": \\\"\\\", \\\"dot11.advertisedssid.channel\\\": \\\"\\\", \\\"dot11.advertisedssid.probe_response\\\": 1, \\\"dot11.advertisedssid.beacon\\\": 0, \\\"dot11.advertisedssid.ssid_hash\\\": 3179317145, \\\"dot11.advertisedssid.wps_config_methods\\\": 0, \\\"dot11.advertisedssid.ssidlen\\\": 5, \\\"dot11.advertisedssid.wps_state\\\": 0, \\\"dot11.advertisedssid.ssid\\\": \\\"ALPHA\\\", \\\"dot11.advertisedssid.wps_version\\\": 0, \\\"dot11.advertisedssid.last_time\\\": 1628191917, \\\"dot11.advertisedssid.cloaked\\\": 0, \\\"dot11.advertisedssid.crypt_set\\\": 268436162, \\\"dot11.advertisedssid.maxrate\\\": 144.4, \\\"dot11.advertisedssid.beaconrate\\\": 0, \\\"dot11.advertisedssid.beacons_sec\\\": 0, \\\"dot11.advertisedssid.ietag_checksum\\\": 1164189419, \\\"dot11.advertisedssid.wpa_mfp_required\\\": 0, \\\"dot11.advertisedssid.wpa_mfp_supported\\\": 0}, \\\"dot11.device.last_bssid\\\": \\\"84:24:8D:65:31:A1\\\", \\\"dot11.device.response_fingerprint\\\": 0, \\\"dot11.device.probe_fingerprint\\\": 0, \\\"dot11.device.beacon_fingerprint\\\": 0, \\\"dot11.device.neighbor_report_capable\\\": 0, \\\"dot11.device.link_measurement_capable\\\": 0, \\\"dot11.device.wps_m3_last\\\": 0, \\\"dot11.device.max_tx_power\\\": 0, \\\"dot11.device.wps_m3_count\\\": 0, \\\"dot11.device.min_tx_power\\\": 0, \\\"dot11.device.last_beacon_timestamp\\\": 0, \\\"dot11.device.datasize_retry\\\": 0, \\\"dot11.device.last_sequence\\\": 0, \\\"dot11.device.num_client_aps\\\": 0, \\\"dot11.device.num_advertised_ssids\\\": 0, \\\"dot11.device.num_probed_ssids\\\": 0, \\\"dot11.device.responded_ssid_map\\\": [{\\\"dot11.advertisedssid.cisco_client_mfp\\\": 0, \\\"dot11.advertisedssid.ccx_txpower\\\": 0, \\\"dot11.advertisedssid.dot11e_channel_utilization_perc\\\": 0, \\\"dot11.advertisedssid.dot11e_qbss_stations\\\": 0, \\\"dot11.advertisedssid.dot11e_qbss\\\": 0, \\\"dot11.advertisedssid.dot11r_mobility_domain_id\\\": 0, \\\"dot11.advertisedssid.dot11r_mobility\\\": 0, \\\"dot11.advertisedssid.first_time\\\": 1628191914, \\\"dot11.advertisedssid.ht_center_2\\\": 0, \\\"dot11.advertisedssid.ht_center_1\\\": 0, \\\"dot11.advertisedssid.ht_mode\\\": \\\"\\\", \\\"dot11.advertisedssid.channel\\\": \\\"\\\", \\\"dot11.advertisedssid.probe_response\\\": 1, \\\"dot11.advertisedssid.beacon\\\": 0, \\\"dot11.advertisedssid.ssid_hash\\\": 3179317145, \\\"dot11.advertisedssid.wps_config_methods\\\": 0, \\\"dot11.advertisedssid.ssidlen\\\": 5, \\\"dot11.advertisedssid.wps_state\\\": 0, \\\"dot11.advertisedssid.ssid\\\": \\\"ALPHA\\\", \\\"dot11.advertisedssid.wps_version\\\": 0, \\\"dot11.advertisedssid.last_time\\\": 1628191917, \\\"dot11.advertisedssid.cloaked\\\": 0, \\\"dot11.advertisedssid.crypt_set\\\": 268436162, \\\"dot11.advertisedssid.maxrate\\\": 144.4, \\\"dot11.advertisedssid.beaconrate\\\": 0, \\\"dot11.advertisedssid.beacons_sec\\\": 0, \\\"dot11.advertisedssid.ietag_checksum\\\": 1164189419, \\\"dot11.advertisedssid.wpa_mfp_required\\\": 0, \\\"dot11.advertisedssid.wpa_mfp_supported\\\": 0}], \\\"dot11.device.num_associated_clients\\\": 0, \\\"dot11.device.wpa_present_handshake\\\": 0, \\\"dot11.device.client_disconnects\\\": 0, \\\"dot11.device.typeset\\\": 256, \\\"dot11.device.num_responded_ssids\\\": 1, \\\"dot11.device.client_disconnects_last\\\": 0, \\\"dot11.device.bss_timestamp\\\": 0, \\\"dot11.device.num_fragments\\\": 0, \\\"dot11.device.num_retries\\\": 0, \\\"dot11.device.datasize\\\": 0}, \\\"kismet.device.base.packets.rx\\\": 0, \\\"kismet.device.base.packets.tx\\\": 0, \\\"kismet.device.base.packets.llc\\\": 2, \\\"kismet.device.base.packets.error\\\": 0, \\\"kismet.device.base.packets.data\\\": 0, \\\"kismet.device.base.packets.crypt\\\": 0, \\\"kismet.device.base.packets.filtered\\\": 0, \\\"kismet.device.base.datasize\\\": 0, \\\"kismet.device.base.packets.rrd\\\": {\\\"kismet.common.rrd.blank_val\\\": 0, \\\"kismet.common.rrd.day_vec\\\": [0, 0, 0, 0, 0, 0, 0, 0, 0, 0, 0, 0, 0, 0, 0, 0, 0, 0, 0, 0, 0, 0, 0, 0], \\\"kismet.common.rrd.hour_vec\\\": [0, 0, 0, 0, 0, 0, 0, 0, 0, 0, 0, 0, 0, 0, 0, 0, 0, 0, 0, 0, 0, 0, 0, 0, 0, 0, 0, 0, 0, 0, 0, 0, 0, 0, 0, 0, 0, 0, 0, 0, 0, 0, 0, 0, 0, 0, 0, 0, 0, 0, 0, 0, 0, 0, 0, 0, 0, 0, 0, 0], \\\"kismet.common.rrd.minute_vec\\\": [0, 0, 0, 0, 0, 0, 0, 0, 0, 0, 0, 0, 0, 0, 0, 0, 0, 0, 0, 0, 0, 0, 0, 0, 0, 0, 0, 0, 0, 0, 0, 0, 0, 0, 0, 0, 0, 0, 0, 0, 0, 0, 0, 0, 0, 0, 0, 0, 0, 0, 0, 0, 0, 0, 0, 1, 0, 1, 0, 0], \\\"kismet.common.rrd.serial_time\\\": 1628191931, \\\"kismet.common.rrd.last_time\\\": 1628191931}}\"\n",
      "  }\n",
      "}\n"
     ]
    }
   ],
   "source": [
    "json_object = json.loads(json_data)\n",
    "json_formatted_str = json.dumps(json_object, indent=2)\n",
    "print(json_formatted_str)"
   ]
  },
  {
   "cell_type": "markdown",
   "metadata": {
    "id": "eQD1gsSfySIq"
   },
   "source": [
    "# Query Kismet Alerts"
   ]
  },
  {
   "cell_type": "code",
   "execution_count": 47,
   "metadata": {
    "id": "xmzy_nWJyUe0"
   },
   "outputs": [],
   "source": [
    "import argparse\n",
    "import json\n",
    "import kismetdb\n",
    "import pandas as pd\n",
    "import hashlib\n",
    "import socket\n",
    "\n",
    "debug=True\n",
    "\n",
    "def isNaN(num):\n",
    "    return num != num\n",
    "\n",
    "def df_to_json(df,output_file):\n",
    "    with open(output_file, \"w\") as f:\n",
    "        output_dict = df.to_dict('records')\n",
    "        for i in output_dict:\n",
    "            i['alert_filename'] = output_file\n",
    "            i['hostname'] = socket.gethostname()\n",
    "            fingerprint = str(i['devmac'])+str(i['ts_sec'])+str(i['ts_usec'])\n",
    "            i['fingerprint']  =create_fingerprint(fingerprint)\n",
    "            i = {k: None if isNaN(i.get(k)) is True else v for k,v in i.items()}\n",
    "            json_data = json.dumps(i)\n",
    "            if debug:\n",
    "                print(json_data)\n",
    "            f.write(json_data)"
   ]
  },
  {
   "cell_type": "code",
   "execution_count": 48,
   "metadata": {
    "id": "hnDx6cs6zaA-"
   },
   "outputs": [],
   "source": [
    "def create_fingerprint(mystring):\n",
    "    hash_object = hashlib.md5(mystring.encode())\n",
    "    return hash_object.hexdigest()"
   ]
  },
  {
   "cell_type": "code",
   "execution_count": 49,
   "metadata": {
    "colab": {
     "base_uri": "https://localhost:8080/"
    },
    "id": "0DPj_efZyXIA",
    "outputId": "d289201b-f59b-4c2b-9933-56cf92d7db4c"
   },
   "outputs": [
    {
     "name": "stdout",
     "output_type": "stream",
     "text": [
      "{\"ts_sec\": 1628191913, \"ts_usec\": 49534, \"phyname\": \"UNKNOWN\", \"devmac\": \"00:00:00:00:00:00\", \"lat\": 0.0, \"lon\": 0.0, \"header\": \"ROOTUSER\", \"alert_filename\": \"alert-metadata.json\", \"hostname\": \"lenovo-legion\", \"fingerprint\": \"8607806a430bdd91dbd6e7014594852b\"}\n"
     ]
    }
   ],
   "source": [
    "kismetdb_file = \"Kismet-20210805-19-31-51-1.kismet\"\n",
    "output_file = \"alert-metadata.json\"\n",
    "\n",
    "alerts = kismetdb.Alerts(kismetdb_file)\n",
    "all_alerts_meta = alerts.get_meta()\n",
    "df_alerts_meta = pd.DataFrame(all_alerts_meta)\n",
    "json_data = df_to_json(df_alerts_meta,output_file)"
   ]
  },
  {
   "cell_type": "code",
   "execution_count": null,
   "metadata": {},
   "outputs": [],
   "source": []
  }
 ],
 "metadata": {
  "colab": {
   "provenance": []
  },
  "kernelspec": {
   "display_name": "Python 3 (ipykernel)",
   "language": "python",
   "name": "python3"
  },
  "language_info": {
   "codemirror_mode": {
    "name": "ipython",
    "version": 3
   },
   "file_extension": ".py",
   "mimetype": "text/x-python",
   "name": "python",
   "nbconvert_exporter": "python",
   "pygments_lexer": "ipython3",
   "version": "3.9.12"
  }
 },
 "nbformat": 4,
 "nbformat_minor": 1
}
